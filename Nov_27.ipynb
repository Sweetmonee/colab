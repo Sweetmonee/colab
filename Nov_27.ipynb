{
  "nbformat": 4,
  "nbformat_minor": 0,
  "metadata": {
    "colab": {
      "provenance": [],
      "authorship_tag": "ABX9TyMhTOxdiaE7+dwl8i+MoLhY",
      "include_colab_link": true
    },
    "kernelspec": {
      "name": "python3",
      "display_name": "Python 3"
    },
    "language_info": {
      "name": "python"
    }
  },
  "cells": [
    {
      "cell_type": "markdown",
      "metadata": {
        "id": "view-in-github",
        "colab_type": "text"
      },
      "source": [
        "<a href=\"https://colab.research.google.com/github/Sweetmonee/colab/blob/main/Nov_27.ipynb\" target=\"_parent\"><img src=\"https://colab.research.google.com/assets/colab-badge.svg\" alt=\"Open In Colab\"/></a>"
      ]
    },
    {
      "cell_type": "markdown",
      "source": [
        "#머쓱이네 옷가게는 10만 원 이상 사면 5%, 30만 원 이상 사면 10%, 50만 원 이상 사면 20%를 할인해줍니다.\n",
        "구매한 옷의 가격 price가 주어질 때, 지불해야 할 금액을 return 하도록 solution 함수를 완성해보세요.\n",
        "\n",
        "제한사항\n",
        "10 ≤ price ≤ 1,000,000\n",
        "price는 10원 단위로(1의 자리가 0) 주어집니다.\n",
        "소수점 이하를 버린 정수를 return합니다.\n"
      ],
      "metadata": {
        "id": "sQ0CTeNHmuXH"
      }
    },
    {
      "cell_type": "code",
      "execution_count": null,
      "metadata": {
        "id": "DQEjgQB5km6Z"
      },
      "outputs": [],
      "source": [
        "def solution(price):\n",
        "    answer = 0\n",
        "    if 100000>price:\n",
        "        answer = int(price)\n",
        "    elif 300000>price >= 100000:\n",
        "        answer = int(price* 0.95)\n",
        "    elif 500000>price >= 300000:\n",
        "        answer = int(price*0.9)\n",
        "    elif price >= 500000:\n",
        "        answer = int(price*0.8)\n",
        "    return answer"
      ]
    },
    {
      "cell_type": "markdown",
      "source": [
        "정수 n이 매개변수로 주어질 때 n의 각 자리 숫자의 합을 return하도록 solution 함수를 완성해주세요\n",
        "\n"
      ],
      "metadata": {
        "id": "k1eT0QQsm773"
      }
    },
    {
      "cell_type": "code",
      "source": [
        "#내답\n",
        "def solution(n):\n",
        "    s = str(n)\n",
        "    l = list(s)\n",
        "    il = [int (i) for i in l]\n",
        "    answer = 0\n",
        "    for i in il:\n",
        "        answer += i\n",
        "        \n",
        "    return answer"
      ],
      "metadata": {
        "id": "SbIMfXatygah"
      },
      "execution_count": null,
      "outputs": []
    },
    {
      "cell_type": "code",
      "source": [
        "#\n",
        "def solution(n):\n",
        "    answer = sum(list(map(int,list(str(n)))))\n",
        "    return answer\n",
        "#\n",
        "def solution(n):\n",
        "    answer = 0\n",
        "    while n:\n",
        "        answer += n%10\n",
        "        n //= 10\n",
        "    return answer"
      ],
      "metadata": {
        "id": "vgGjLpoLygd3"
      },
      "execution_count": null,
      "outputs": []
    },
    {
      "cell_type": "markdown",
      "source": [
        "#순서쌍이란 두 개의 숫자를 순서를 정하여 짝지어 나타낸 쌍으로 (a, b)로 표기합니다. 자연수 n이 매개변수로 주어질 때 두 숫자의 곱이 n인 자연수 순서쌍의 개수를 return하도록 solution 함수를 완성해주세요.\n",
        "\n"
      ],
      "metadata": {
        "id": "_Rs4X9lqy3Pb"
      }
    },
    {
      "cell_type": "code",
      "source": [
        "def solution(n):\n",
        "    answer = 0\n",
        "    for i in range(1, n+1):\n",
        "        if n%i == 0:\n",
        "            answer += 1\n",
        "    return answer"
      ],
      "metadata": {
        "id": "eq52KbnNyghQ"
      },
      "execution_count": null,
      "outputs": []
    },
    {
      "cell_type": "markdown",
      "source": [
        "#영어에선 a, e, i, o, u 다섯 가지 알파벳을 모음으로 분류합니다. 문자열 my_string이 매개변수로 주어질 때 모음을 제거한 문자열을 return하도록 solution 함수를 완성해주세요.\n",
        "\n"
      ],
      "metadata": {
        "id": "Cc0NfbFjNazU"
      }
    },
    {
      "cell_type": "code",
      "source": [
        "def solution(my_string):\n",
        "    answer = list(my_string)\n",
        "    consonant = ['a','e','i','o','u']\n",
        "    for i in my_string:\n",
        "        for j in consonant:\n",
        "            if i == j:\n",
        "                answer.remove(i)\n",
        "    return ''.join(s for s in answer)"
      ],
      "metadata": {
        "id": "oqiqvYTnygkY"
      },
      "execution_count": null,
      "outputs": []
    },
    {
      "cell_type": "markdown",
      "source": [],
      "metadata": {
        "id": "juLQhkIYNhgw"
      }
    },
    {
      "cell_type": "code",
      "source": [],
      "metadata": {
        "id": "urFY-d__NgyZ"
      },
      "execution_count": null,
      "outputs": []
    },
    {
      "cell_type": "code",
      "source": [],
      "metadata": {
        "id": "KGs8_8z4NhD2"
      },
      "execution_count": null,
      "outputs": []
    }
  ]
}