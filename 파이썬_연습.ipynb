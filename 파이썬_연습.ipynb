{
  "nbformat": 4,
  "nbformat_minor": 0,
  "metadata": {
    "colab": {
      "name": "파이썬 연습.ipynb",
      "provenance": [],
      "authorship_tag": "ABX9TyN2jtOLVN+feIlJe715cJA+",
      "include_colab_link": true
    },
    "kernelspec": {
      "name": "python3",
      "display_name": "Python 3"
    },
    "language_info": {
      "name": "python"
    }
  },
  "cells": [
    {
      "cell_type": "markdown",
      "metadata": {
        "id": "view-in-github",
        "colab_type": "text"
      },
      "source": [
        "<a href=\"https://colab.research.google.com/github/Sweetmonee/colab/blob/main/%ED%8C%8C%EC%9D%B4%EC%8D%AC_%EC%97%B0%EC%8A%B5.ipynb\" target=\"_parent\"><img src=\"https://colab.research.google.com/assets/colab-badge.svg\" alt=\"Open In Colab\"/></a>"
      ]
    },
    {
      "cell_type": "code",
      "execution_count": null,
      "metadata": {
        "colab": {
          "base_uri": "https://localhost:8080/"
        },
        "id": "VSJTk7Ji29cs",
        "outputId": "a3bf2318-fa6f-43de-e7ce-63ca557e7bea"
      },
      "outputs": [
        {
          "output_type": "stream",
          "name": "stdout",
          "text": [
            "8\n",
            "0101000\n",
            "0001110\n"
          ]
        }
      ],
      "source": [
        "# bit연산\n",
        "a = 40\n",
        "b = 14\n",
        "print(a&b)\n",
        "print(bin(a)[2:].zfill(7)) \n",
        "print(bin(b)[2:].zfill(7))\n",
        "# 101000\n",
        "# 001110"
      ]
    },
    {
      "cell_type": "code",
      "source": [
        "def f(x,y):#파라미터\n",
        "    z = x + y\n",
        "    return z\n",
        "print(f(3,5))#아규먼트"
      ],
      "metadata": {
        "colab": {
          "base_uri": "https://localhost:8080/"
        },
        "id": "4Bbs6zvB6sVU",
        "outputId": "184cc1b7-3ac7-481b-c944-0dd688d6691c"
      },
      "execution_count": null,
      "outputs": [
        {
          "output_type": "stream",
          "name": "stdout",
          "text": [
            "8\n"
          ]
        }
      ]
    },
    {
      "cell_type": "markdown",
      "source": [
        "# 14July\n"
      ],
      "metadata": {
        "id": "CLkYvYo7Xewo"
      }
    },
    {
      "cell_type": "code",
      "source": [
        "def ff():\n",
        "    print('1')\n",
        "    print('2')\n",
        "    print('3')\n",
        "print(4)\n",
        "ff()\n"
      ],
      "metadata": {
        "colab": {
          "base_uri": "https://localhost:8080/"
        },
        "id": "8OfWz5OcXlXv",
        "outputId": "832a8ec9-b6e7-4136-ee42-a07590ba0d37"
      },
      "execution_count": null,
      "outputs": [
        {
          "output_type": "stream",
          "name": "stdout",
          "text": [
            "4\n",
            "1\n",
            "2\n",
            "3\n"
          ]
        }
      ]
    },
    {
      "cell_type": "code",
      "source": [
        "def circle(r):\n",
        "    width = r*r*3.14\n",
        "    return width\n",
        "print(circle(10))"
      ],
      "metadata": {
        "colab": {
          "base_uri": "https://localhost:8080/"
        },
        "id": "O7RW9RwxY0TF",
        "outputId": "6fbfe8cb-5d15-4afd-8dab-f9dc9908b203"
      },
      "execution_count": null,
      "outputs": [
        {
          "output_type": "stream",
          "name": "stdout",
          "text": [
            "314.0\n"
          ]
        }
      ]
    },
    {
      "cell_type": "markdown",
      "source": [
        ""
      ],
      "metadata": {
        "id": "IeiF11lja2vT"
      }
    },
    {
      "cell_type": "code",
      "source": [
        "a = 10\n",
        "def aplus():\n",
        "    global a\n",
        "    a += 10\n",
        "    return a\n",
        "    print(aplus())"
      ],
      "metadata": {
        "id": "TWHhvlDfY-3V"
      },
      "execution_count": null,
      "outputs": []
    },
    {
      "cell_type": "markdown",
      "source": [
        "#15July"
      ],
      "metadata": {
        "id": "BTJ5sCf96fJ9"
      }
    },
    {
      "cell_type": "code",
      "source": [
        "a= 4.24e2\n",
        "print(a)"
      ],
      "metadata": {
        "id": "zmpZUa5-cQSU",
        "colab": {
          "base_uri": "https://localhost:8080/"
        },
        "outputId": "3e3f1ede-4cea-43a7-b612-fb9ffbf52598"
      },
      "execution_count": null,
      "outputs": [
        {
          "output_type": "stream",
          "name": "stdout",
          "text": [
            "424.0\n"
          ]
        }
      ]
    },
    {
      "cell_type": "code",
      "source": [
        "a= 231\n",
        "b= 230\n",
        "print(a**b)"
      ],
      "metadata": {
        "colab": {
          "base_uri": "https://localhost:8080/"
        },
        "id": "NiK3hFGo9IVT",
        "outputId": "7f7ce61f-982e-4ee4-d1a9-ee18daed1c92"
      },
      "execution_count": null,
      "outputs": [
        {
          "output_type": "stream",
          "name": "stdout",
          "text": [
            "4273221208611331164450224428876567062409966290836664408202806572438426225742834616173704307057644700463931346062902394755736123352073948039593765285403411081160593110317959132637055437923284582919605611208691147698461574683963918174408010870079881110927028184598039042270383260214841341567843152280126947905537631528475162904314093277468059038105243127743519678603232864757857966844785577186948478166537184431501529991607546815511745341100902979711922092139923952054546696642529276790460647191263772471962057568929907650500774522149931120344401\n"
          ]
        }
      ]
    },
    {
      "cell_type": "code",
      "source": [
        "a= \"Hello world\"\n",
        "print(type(a))"
      ],
      "metadata": {
        "colab": {
          "base_uri": "https://localhost:8080/"
        },
        "id": "um_Fg4rr89vz",
        "outputId": "f8d14cbc-4365-4f23-e051-c752b2398fff"
      },
      "execution_count": null,
      "outputs": [
        {
          "output_type": "stream",
          "name": "stdout",
          "text": [
            "<class 'str'>\n"
          ]
        }
      ]
    },
    {
      "cell_type": "code",
      "source": [
        "a= \"choi\\\"jaehun\"\n",
        "b= \" is handsome\\t\"\n",
        "print((a + b)*100)"
      ],
      "metadata": {
        "colab": {
          "base_uri": "https://localhost:8080/"
        },
        "id": "kQ7GK-zo-GOi",
        "outputId": "6bf3e28b-a580-4f9e-8bda-634d407ce5a1"
      },
      "execution_count": null,
      "outputs": [
        {
          "output_type": "stream",
          "name": "stdout",
          "text": [
            "choi\"jaehun is handsome\tchoi\"jaehun is handsome\tchoi\"jaehun is handsome\tchoi\"jaehun is handsome\tchoi\"jaehun is handsome\tchoi\"jaehun is handsome\tchoi\"jaehun is handsome\tchoi\"jaehun is handsome\tchoi\"jaehun is handsome\tchoi\"jaehun is handsome\tchoi\"jaehun is handsome\tchoi\"jaehun is handsome\tchoi\"jaehun is handsome\tchoi\"jaehun is handsome\tchoi\"jaehun is handsome\tchoi\"jaehun is handsome\tchoi\"jaehun is handsome\tchoi\"jaehun is handsome\tchoi\"jaehun is handsome\tchoi\"jaehun is handsome\tchoi\"jaehun is handsome\tchoi\"jaehun is handsome\tchoi\"jaehun is handsome\tchoi\"jaehun is handsome\tchoi\"jaehun is handsome\tchoi\"jaehun is handsome\tchoi\"jaehun is handsome\tchoi\"jaehun is handsome\tchoi\"jaehun is handsome\tchoi\"jaehun is handsome\tchoi\"jaehun is handsome\tchoi\"jaehun is handsome\tchoi\"jaehun is handsome\tchoi\"jaehun is handsome\tchoi\"jaehun is handsome\tchoi\"jaehun is handsome\tchoi\"jaehun is handsome\tchoi\"jaehun is handsome\tchoi\"jaehun is handsome\tchoi\"jaehun is handsome\tchoi\"jaehun is handsome\tchoi\"jaehun is handsome\tchoi\"jaehun is handsome\tchoi\"jaehun is handsome\tchoi\"jaehun is handsome\tchoi\"jaehun is handsome\tchoi\"jaehun is handsome\tchoi\"jaehun is handsome\tchoi\"jaehun is handsome\tchoi\"jaehun is handsome\tchoi\"jaehun is handsome\tchoi\"jaehun is handsome\tchoi\"jaehun is handsome\tchoi\"jaehun is handsome\tchoi\"jaehun is handsome\tchoi\"jaehun is handsome\tchoi\"jaehun is handsome\tchoi\"jaehun is handsome\tchoi\"jaehun is handsome\tchoi\"jaehun is handsome\tchoi\"jaehun is handsome\tchoi\"jaehun is handsome\tchoi\"jaehun is handsome\tchoi\"jaehun is handsome\tchoi\"jaehun is handsome\tchoi\"jaehun is handsome\tchoi\"jaehun is handsome\tchoi\"jaehun is handsome\tchoi\"jaehun is handsome\tchoi\"jaehun is handsome\tchoi\"jaehun is handsome\tchoi\"jaehun is handsome\tchoi\"jaehun is handsome\tchoi\"jaehun is handsome\tchoi\"jaehun is handsome\tchoi\"jaehun is handsome\tchoi\"jaehun is handsome\tchoi\"jaehun is handsome\tchoi\"jaehun is handsome\tchoi\"jaehun is handsome\tchoi\"jaehun is handsome\tchoi\"jaehun is handsome\tchoi\"jaehun is handsome\tchoi\"jaehun is handsome\tchoi\"jaehun is handsome\tchoi\"jaehun is handsome\tchoi\"jaehun is handsome\tchoi\"jaehun is handsome\tchoi\"jaehun is handsome\tchoi\"jaehun is handsome\tchoi\"jaehun is handsome\tchoi\"jaehun is handsome\tchoi\"jaehun is handsome\tchoi\"jaehun is handsome\tchoi\"jaehun is handsome\tchoi\"jaehun is handsome\tchoi\"jaehun is handsome\tchoi\"jaehun is handsome\tchoi\"jaehun is handsome\tchoi\"jaehun is handsome\t\n"
          ]
        }
      ]
    },
    {
      "cell_type": "code",
      "source": [
        "a= \"Life is too short You need Python\"\n",
        "print(a[2])#인덱싱"
      ],
      "metadata": {
        "colab": {
          "base_uri": "https://localhost:8080/"
        },
        "id": "t2rdeiM5_ZEg",
        "outputId": "bc8f929d-e5b7-4ee8-e216-3aa0d5b47aa2"
      },
      "execution_count": null,
      "outputs": [
        {
          "output_type": "stream",
          "name": "stdout",
          "text": [
            "f\n"
          ]
        }
      ]
    },
    {
      "cell_type": "code",
      "source": [
        "a = \"July15 Rainy days\"\n",
        "date = a[:6]#슬라이싱 [이상:미만:간격]\n",
        "weather = a[7:]\n",
        "date\n",
        "weather\n",
        "print(weather)"
      ],
      "metadata": {
        "colab": {
          "base_uri": "https://localhost:8080/"
        },
        "id": "GYli1or8AjrR",
        "outputId": "d37d8186-9588-4a5a-bd96-d546cd27cd70"
      },
      "execution_count": null,
      "outputs": [
        {
          "output_type": "stream",
          "name": "stdout",
          "text": [
            "Rainy days\n"
          ]
        }
      ]
    },
    {
      "cell_type": "code",
      "source": [
        ""
      ],
      "metadata": {
        "id": "KPcxxZp-Bwkp"
      },
      "execution_count": null,
      "outputs": []
    },
    {
      "cell_type": "code",
      "source": [
        "a = \"July15 Rainy days\"\n",
        "print(a[7::2])"
      ],
      "metadata": {
        "colab": {
          "base_uri": "https://localhost:8080/"
        },
        "id": "CdBrcb-ZBXZ_",
        "outputId": "348b67ec-5fde-4efe-b931-f83173408e8c"
      },
      "execution_count": null,
      "outputs": [
        {
          "output_type": "stream",
          "name": "stdout",
          "text": [
            "Riydy\n"
          ]
        }
      ]
    },
    {
      "cell_type": "code",
      "source": [
        "number = 10\n",
        "day = \"three\"\n",
        "a = \"I ate %d appples. so i was sick for %s days. \" % (number, day)\n",
        "#문자열포맷코드.%s 문자열. %c 문자1개.%d 정수. %f 부동 소수(floating-point)\n",
        "print(a)"
      ],
      "metadata": {
        "colab": {
          "base_uri": "https://localhost:8080/"
        },
        "id": "pcYsy9MQBc2g",
        "outputId": "bc826706-49aa-4d81-eca6-b704c134967e"
      },
      "execution_count": null,
      "outputs": [
        {
          "output_type": "stream",
          "name": "stdout",
          "text": [
            "I ate 10 appples. so i was sick for three days. \n"
          ]
        }
      ]
    },
    {
      "cell_type": "markdown",
      "source": [
        "# July 18"
      ],
      "metadata": {
        "id": "Rpi89ax_-YDS"
      }
    },
    {
      "cell_type": "code",
      "source": [
        "a = \"aasdf {age} asdfasd fasdf {name} asdfasdf\".format(name=\"최재훈\", age = 26)\n",
        "\n",
        "print(a)"
      ],
      "metadata": {
        "id": "iD6b-OUfDV7x",
        "colab": {
          "base_uri": "https://localhost:8080/"
        },
        "outputId": "eaf7a665-361a-411e-c0ca-c90f10f50d41"
      },
      "execution_count": null,
      "outputs": [
        {
          "output_type": "stream",
          "name": "stdout",
          "text": [
            "aasdf 26 asdfasd fasdf 최재훈 asdfasdf\n"
          ]
        }
      ]
    },
    {
      "cell_type": "code",
      "source": [
        "name = \"int\"\n",
        "a = f\"나의 이름은 {name}입니다\"\n",
        "print(a)"
      ],
      "metadata": {
        "colab": {
          "base_uri": "https://localhost:8080/"
        },
        "id": "IlrShpP2AVrF",
        "outputId": "db628a7c-d835-4db1-f437-f9efa60d946a"
      },
      "execution_count": null,
      "outputs": [
        {
          "output_type": "stream",
          "name": "stdout",
          "text": [
            "나의 이름은 int입니다\n"
          ]
        }
      ]
    },
    {
      "cell_type": "code",
      "source": [
        "a = \"%10s\" %  \"hi\"\n",
        "\n",
        "\n",
        "print(a)"
      ],
      "metadata": {
        "colab": {
          "base_uri": "https://localhost:8080/"
        },
        "id": "fGALtNJnBXky",
        "outputId": "7379bfa9-fa0e-41d9-f987-6b4c2756a99c"
      },
      "execution_count": null,
      "outputs": [
        {
          "output_type": "stream",
          "name": "stdout",
          "text": [
            "        hi\n"
          ]
        }
      ]
    },
    {
      "cell_type": "code",
      "source": [
        "a = \"%0.2f\" % 3.141592\n",
        "\n",
        "print(a)"
      ],
      "metadata": {
        "colab": {
          "base_uri": "https://localhost:8080/"
        },
        "id": "1GYnQQdTCovf",
        "outputId": "41f23e88-fd4e-4477-faf0-743ad8c24b05"
      },
      "execution_count": null,
      "outputs": [
        {
          "output_type": "stream",
          "name": "stdout",
          "text": [
            "3.14\n"
          ]
        }
      ]
    },
    {
      "cell_type": "code",
      "source": [
        "a = \"hobbyy\"\n",
        "\n",
        "print(a.find('y'))"
      ],
      "metadata": {
        "colab": {
          "base_uri": "https://localhost:8080/"
        },
        "id": "qjfJ0sQVC2ba",
        "outputId": "a8f9a4b2-9b6b-40b2-cde0-5dce7f638ffa"
      },
      "execution_count": null,
      "outputs": [
        {
          "output_type": "stream",
          "name": "stdout",
          "text": [
            "4\n"
          ]
        }
      ]
    },
    {
      "cell_type": "code",
      "source": [
        "a = \"Life is too short\"\n",
        "print(a.replace(\"Life\", \"your leg\"))"
      ],
      "metadata": {
        "colab": {
          "base_uri": "https://localhost:8080/"
        },
        "id": "VxzXx9NuEtrP",
        "outputId": "88d7decd-a04a-4e08-9eb0-717d8fb2aab1"
      },
      "execution_count": null,
      "outputs": [
        {
          "output_type": "stream",
          "name": "stdout",
          "text": [
            "your leg is too short\n"
          ]
        }
      ]
    },
    {
      "cell_type": "code",
      "source": [
        "a = \",\".join([\"a\",\"b\",\"c\",\"d\"])\n",
        "\n",
        "\n",
        "print(a)"
      ],
      "metadata": {
        "colab": {
          "base_uri": "https://localhost:8080/"
        },
        "id": "eFS5rxnJCvgC",
        "outputId": "c7339e0c-c410-4fc1-9188-f590ca33ce3f"
      },
      "execution_count": null,
      "outputs": [
        {
          "output_type": "stream",
          "name": "stdout",
          "text": [
            "a,b,c,d\n"
          ]
        }
      ]
    },
    {
      "cell_type": "markdown",
      "source": [
        "#July19"
      ],
      "metadata": {
        "id": "UFaJN6No3gpG"
      }
    },
    {
      "cell_type": "code",
      "source": [
        "a = \"Life:is:beautiful\"\n",
        "print(a.split(\":\"))"
      ],
      "metadata": {
        "id": "e0XQWJkqPFpo",
        "colab": {
          "base_uri": "https://localhost:8080/"
        },
        "outputId": "b4d8e589-aba1-4292-eb16-66fef3c68d0e"
      },
      "execution_count": null,
      "outputs": [
        {
          "output_type": "stream",
          "name": "stdout",
          "text": [
            "['Life', 'is', 'beautiful']\n"
          ]
        }
      ]
    },
    {
      "cell_type": "code",
      "source": [
        "a = [1,2,\"int\",\"김정현\",[\"김재원\",\"Manse samdori\"]]\n",
        "print(a[4][1])"
      ],
      "metadata": {
        "colab": {
          "base_uri": "https://localhost:8080/"
        },
        "id": "RfEpE1hR4DNe",
        "outputId": "cbe8d69c-8db1-40f1-8548-55f3874979aa"
      },
      "execution_count": null,
      "outputs": [
        {
          "output_type": "stream",
          "name": "stdout",
          "text": [
            "Manse samdori\n"
          ]
        }
      ]
    },
    {
      "cell_type": "code",
      "source": [
        "a = [1,2,3]\n",
        "b= [4,5,6]\n",
        "print(a+b)"
      ],
      "metadata": {
        "colab": {
          "base_uri": "https://localhost:8080/"
        },
        "id": "oEDli5-n7PQL",
        "outputId": "6c4dd7a5-b90f-4f8d-ee8f-285140f18e99"
      },
      "execution_count": null,
      "outputs": [
        {
          "output_type": "stream",
          "name": "stdout",
          "text": [
            "[1, 2, 3, 4, 5, 6]\n"
          ]
        }
      ]
    },
    {
      "cell_type": "code",
      "source": [
        "a = [\"박주하\", \"잠수\", \"문재성\"]\n",
        "a[0:2] = []\n",
        "\n",
        "print(a)"
      ],
      "metadata": {
        "id": "epA0iDweOSAX",
        "colab": {
          "base_uri": "https://localhost:8080/"
        },
        "outputId": "578b2f55-8b07-4e38-cb19-7b53f1b9dd7d"
      },
      "execution_count": null,
      "outputs": [
        {
          "output_type": "stream",
          "name": "stdout",
          "text": [
            "['문재성']\n"
          ]
        }
      ]
    },
    {
      "cell_type": "code",
      "source": [
        "a = [\"박주하\", \"잠수\", \"문재성\"]\n",
        "del a[0]\n",
        "\n",
        "print(a)"
      ],
      "metadata": {
        "colab": {
          "base_uri": "https://localhost:8080/"
        },
        "id": "tKyXHzQ58ZsL",
        "outputId": "263bb9b5-7352-40c7-e7e8-117de4959e2e"
      },
      "execution_count": null,
      "outputs": [
        {
          "output_type": "stream",
          "name": "stdout",
          "text": [
            "['잠수', '문재성']\n"
          ]
        }
      ]
    },
    {
      "cell_type": "code",
      "source": [
        "a = [\"박주하\", \"잠수\", \"문재성\"]\n",
        "a.append(\"시우버\")\n",
        "\n",
        "print(a)"
      ],
      "metadata": {
        "colab": {
          "base_uri": "https://localhost:8080/"
        },
        "id": "g4-81OoI8rO6",
        "outputId": "d3e64a36-e5b6-47f9-da9d-5b9fc075725a"
      },
      "execution_count": null,
      "outputs": [
        {
          "output_type": "stream",
          "name": "stdout",
          "text": [
            "['박주하', '잠수', '문재성', '시우버']\n"
          ]
        }
      ]
    },
    {
      "cell_type": "code",
      "source": [
        "a = [1,5,34,54,747,1,1754,5647,564,253,421,42,3436]\n",
        "a.sort()\n",
        "b = [\"가\",\"댜\",\"라\",\"미\",\"해\",\"유\"]\n",
        "b.sort()\n",
        "print(a*3+b)\n"
      ],
      "metadata": {
        "colab": {
          "base_uri": "https://localhost:8080/"
        },
        "id": "1GoFsr-V85OL",
        "outputId": "03e5899c-372b-4057-b740-5ae6a078c504"
      },
      "execution_count": null,
      "outputs": [
        {
          "output_type": "stream",
          "name": "stdout",
          "text": [
            "[1, 1, 5, 34, 42, 54, 253, 421, 564, 747, 1754, 3436, 5647, 1, 1, 5, 34, 42, 54, 253, 421, 564, 747, 1754, 3436, 5647, 1, 1, 5, 34, 42, 54, 253, 421, 564, 747, 1754, 3436, 5647, '가', '댜', '라', '미', '유', '해']\n"
          ]
        }
      ]
    },
    {
      "cell_type": "code",
      "source": [
        "a = [1,5,3]\n",
        "\n",
        "print(a.index(5))\n"
      ],
      "metadata": {
        "colab": {
          "base_uri": "https://localhost:8080/"
        },
        "id": "a6dMDp-O91rD",
        "outputId": "9362ddc4-9c87-4d92-8052-4f0c4bf2e682"
      },
      "execution_count": null,
      "outputs": [
        {
          "output_type": "stream",
          "name": "stdout",
          "text": [
            "1\n"
          ]
        }
      ]
    },
    {
      "cell_type": "code",
      "source": [
        "a = [1,2,3]\n",
        "a.insert(0,4) #n번째에,~을 삽입하라\n",
        "[4,1,2,3]"
      ],
      "metadata": {
        "id": "gIHNzDloCoYX"
      },
      "execution_count": null,
      "outputs": []
    },
    {
      "cell_type": "code",
      "source": [
        "a = [1,2,3,1,2,3,1,1,2,3,5,6,3,4,5,6,3,2,1]\n",
        "\n",
        "for A in a:\n",
        "    if A == 3:\n",
        "      a.remove(A)\n",
        "      print(a)\n"
      ],
      "metadata": {
        "colab": {
          "base_uri": "https://localhost:8080/"
        },
        "id": "6C6Kzayg9jWb",
        "outputId": "c74f5427-82f0-4e40-9ddd-41948f4fae07"
      },
      "execution_count": null,
      "outputs": [
        {
          "output_type": "stream",
          "name": "stdout",
          "text": [
            "[1, 2, 1, 2, 3, 1, 1, 2, 3, 5, 6, 3, 4, 5, 6, 3, 2, 1]\n",
            "[1, 2, 1, 2, 1, 1, 2, 3, 5, 6, 3, 4, 5, 6, 3, 2, 1]\n",
            "[1, 2, 1, 2, 1, 1, 2, 5, 6, 3, 4, 5, 6, 3, 2, 1]\n",
            "[1, 2, 1, 2, 1, 1, 2, 5, 6, 4, 5, 6, 3, 2, 1]\n",
            "[1, 2, 1, 2, 1, 1, 2, 5, 6, 4, 5, 6, 2, 1]\n"
          ]
        }
      ]
    },
    {
      "cell_type": "code",
      "source": [
        "a = [1,2,3]\n",
        "a.pop()\n",
        "print(a)"
      ],
      "metadata": {
        "colab": {
          "base_uri": "https://localhost:8080/"
        },
        "id": "pjCk_DjSMF7B",
        "outputId": "9e30bf9b-355c-4b70-b164-aaf15f4de1f7"
      },
      "execution_count": null,
      "outputs": [
        {
          "output_type": "stream",
          "name": "stdout",
          "text": [
            "[1, 2]\n"
          ]
        }
      ]
    },
    {
      "cell_type": "code",
      "source": [
        "a= [1,4,5,6,1,5]\n",
        "a.extend([2,4])\n",
        "print(a)"
      ],
      "metadata": {
        "colab": {
          "base_uri": "https://localhost:8080/"
        },
        "id": "HjhSMn3cK-6J",
        "outputId": "f78e8977-5f9b-43a4-a9fc-c5b686a003f7"
      },
      "execution_count": null,
      "outputs": [
        {
          "output_type": "stream",
          "name": "stdout",
          "text": [
            "[1, 4, 5, 6, 1, 5, 2, 4]\n"
          ]
        }
      ]
    },
    {
      "cell_type": "code",
      "source": [
        "t1 = (1,2,'a', 'b')\n",
        "print(t1[0] + 1)\n",
        "a= (1,2)\n",
        "a= a * 3\n",
        "print(a)"
      ],
      "metadata": {
        "colab": {
          "base_uri": "https://localhost:8080/"
        },
        "id": "oRsMdq9sTNpo",
        "outputId": "6a60d0f4-096f-428a-be5a-57a945796f9e"
      },
      "execution_count": null,
      "outputs": [
        {
          "output_type": "stream",
          "name": "stdout",
          "text": [
            "2\n",
            "(1, 2, 1, 2, 1, 2)\n"
          ]
        }
      ]
    },
    {
      "cell_type": "code",
      "source": [
        "dic = {'name': 'Eric', 'age': 15}\n",
        "\n",
        "print(dic['name'])"
      ],
      "metadata": {
        "colab": {
          "base_uri": "https://localhost:8080/"
        },
        "id": "UkTtgUHOW5Hn",
        "outputId": "b88ec1ce-f845-42c5-fd06-3e62e0ecc957"
      },
      "execution_count": null,
      "outputs": [
        {
          "output_type": "stream",
          "name": "stdout",
          "text": [
            "Eric\n"
          ]
        }
      ]
    },
    {
      "cell_type": "code",
      "source": [
        ""
      ],
      "metadata": {
        "id": "m_5Y5_jxYAWW"
      },
      "execution_count": null,
      "outputs": []
    },
    {
      "cell_type": "code",
      "source": [
        ""
      ],
      "metadata": {
        "id": "v48LDevSDmT8"
      },
      "execution_count": null,
      "outputs": []
    },
    {
      "cell_type": "code",
      "source": [
        ""
      ],
      "metadata": {
        "id": "uMuqvIvC9Jjz"
      },
      "execution_count": null,
      "outputs": []
    },
    {
      "cell_type": "code",
      "source": [
        ""
      ],
      "metadata": {
        "id": "UfkRFCQi9D7T"
      },
      "execution_count": null,
      "outputs": []
    },
    {
      "cell_type": "markdown",
      "source": [
        ""
      ],
      "metadata": {
        "id": "dNInmYqjF0nd"
      }
    }
  ]
}