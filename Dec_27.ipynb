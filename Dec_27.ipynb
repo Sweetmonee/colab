{
  "nbformat": 4,
  "nbformat_minor": 0,
  "metadata": {
    "colab": {
      "provenance": [],
      "authorship_tag": "ABX9TyNN1gA6Jeh7nU4xyIgGZhb6",
      "include_colab_link": true
    },
    "kernelspec": {
      "name": "python3",
      "display_name": "Python 3"
    },
    "language_info": {
      "name": "python"
    }
  },
  "cells": [
    {
      "cell_type": "markdown",
      "metadata": {
        "id": "view-in-github",
        "colab_type": "text"
      },
      "source": [
        "<a href=\"https://colab.research.google.com/github/Sweetmonee/colab/blob/main/Dec_27.ipynb\" target=\"_parent\"><img src=\"https://colab.research.google.com/assets/colab-badge.svg\" alt=\"Open In Colab\"/></a>"
      ]
    },
    {
      "cell_type": "code",
      "execution_count": null,
      "metadata": {
        "id": "PRVgqm2kDWC9"
      },
      "outputs": [],
      "source": [
        "# 문자열 s가 매개변수로 주어집니다.\n",
        "# s에서 한 번만 등장하는 문자를 사전 순으로 정렬한 문자열을 return 하도록 solution 함수를 완성해보세요. 한 번만 등장하는 문자가 없을 경우 빈 문자열을 return 합니다.\n",
        "def solution(s):\n",
        "    answer = ''\n",
        "    for i in range(len(s)):\n",
        "        if s[i] not in (s[:i] + s[i+1:]):\n",
        "            answer += s[i]\n",
        "            \n",
        "    return ''.join(sorted(answer))\n"
      ]
    }
  ]
}