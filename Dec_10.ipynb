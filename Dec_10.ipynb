{
  "nbformat": 4,
  "nbformat_minor": 0,
  "metadata": {
    "colab": {
      "provenance": [],
      "authorship_tag": "ABX9TyNifyJCRjIfdmD2Du4IUjad",
      "include_colab_link": true
    },
    "kernelspec": {
      "name": "python3",
      "display_name": "Python 3"
    },
    "language_info": {
      "name": "python"
    }
  },
  "cells": [
    {
      "cell_type": "markdown",
      "metadata": {
        "id": "view-in-github",
        "colab_type": "text"
      },
      "source": [
        "<a href=\"https://colab.research.google.com/github/Sweetmonee/colab/blob/main/Dec_10.ipynb\" target=\"_parent\"><img src=\"https://colab.research.google.com/assets/colab-badge.svg\" alt=\"Open In Colab\"/></a>"
      ]
    },
    {
      "cell_type": "code",
      "execution_count": null,
      "metadata": {
        "id": "Wc-jp3tLQJ9p"
      },
      "outputs": [],
      "source": [
        "# 연속된 세 개의 정수를 더해 12가 되는 경우는 3, 4, 5입니다. \n",
        "# 두 정수 num과 total이 주어집니다. 연속된 수 num개를 더한 값이 total이 될 때, 정수 배열을 오름차순으로 담아 return하도록 solution함수를 완성해보세요.\n",
        "def solution(num, total):\n",
        "    numbers = [i for i in range(-1000, total+1000)]\n",
        "    answer = []\n",
        "    for j in range(len(numbers)):\n",
        "        if sum(numbers[j:(j+num)]) == total:\n",
        "            answer = numbers[j:(j+num)]\n",
        "            break\n",
        "    return answer"
      ]
    }
  ]
}