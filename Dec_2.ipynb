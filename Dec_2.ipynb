{
  "nbformat": 4,
  "nbformat_minor": 0,
  "metadata": {
    "colab": {
      "provenance": [],
      "authorship_tag": "ABX9TyNTZN/mruVTKObYxfGt2Lsu",
      "include_colab_link": true
    },
    "kernelspec": {
      "name": "python3",
      "display_name": "Python 3"
    },
    "language_info": {
      "name": "python"
    }
  },
  "cells": [
    {
      "cell_type": "markdown",
      "metadata": {
        "id": "view-in-github",
        "colab_type": "text"
      },
      "source": [
        "<a href=\"https://colab.research.google.com/github/Sweetmonee/colab/blob/main/Dec_2.ipynb\" target=\"_parent\"><img src=\"https://colab.research.google.com/assets/colab-badge.svg\" alt=\"Open In Colab\"/></a>"
      ]
    },
    {
      "cell_type": "code",
      "execution_count": null,
      "metadata": {
        "id": "OevJV6lzRA_L"
      },
      "outputs": [],
      "source": [
        "#가위는 2 바위는 0 보는 5로 표현합니다. 가위 바위 보를 내는 순서대로 나타낸 문자열 rsp가 매개변수로 주어질 때, rsp에 저장된 가위 바위 보를 모두 이기는 경우를 순서대로 나타낸 문자열을 return하도록 solution 함수를 완성해보세요.\n",
        "\n",
        "\n",
        "\n",
        "def solution(rsp):\n",
        "    gbv = list(map(int, rsp))\n",
        "    answer = ''\n",
        "    answerl = list(answer)\n",
        "    for i in gbv:\n",
        "        if i == 2:\n",
        "            answerl.append(0)\n",
        "        elif i == 0:\n",
        "            answerl.append(5)\n",
        "        else:\n",
        "            answerl.append(2)\n",
        "    return ''.join(str(s) for s in answerl)"
      ]
    },
    {
      "cell_type": "code",
      "source": [
        "# 머쓱이는 직육면체 모양의 상자를 하나 가지고 있는데 이 상자에 정육면체 모양의 주사위를 최대한 많이 채우고 싶습니다. \n",
        "# 상자의 가로, 세로, 높이가 저장되어있는 배열 box와 주사위 모서리의 길이 정수 n이 매개변수로 주어졌을 때, 상자에 들어갈 수 있는 주사위의 최대 개수를 return 하도록 solution 함수를 완성해주세요.\n",
        "def solution(box, n):\n",
        "    answer = (box[0]//n) * (box[1]//n) * (box[2]//n)\n",
        "    return answer"
      ],
      "metadata": {
        "id": "UeF1FTrdjR77"
      },
      "execution_count": null,
      "outputs": []
    }
  ]
}