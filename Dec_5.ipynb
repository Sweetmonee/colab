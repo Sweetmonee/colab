{
  "nbformat": 4,
  "nbformat_minor": 0,
  "metadata": {
    "colab": {
      "provenance": [],
      "authorship_tag": "ABX9TyO//4DzlKugoRfvmlKbWuno",
      "include_colab_link": true
    },
    "kernelspec": {
      "name": "python3",
      "display_name": "Python 3"
    },
    "language_info": {
      "name": "python"
    }
  },
  "cells": [
    {
      "cell_type": "markdown",
      "metadata": {
        "id": "view-in-github",
        "colab_type": "text"
      },
      "source": [
        "<a href=\"https://colab.research.google.com/github/Sweetmonee/colab/blob/main/Dec_5.ipynb\" target=\"_parent\"><img src=\"https://colab.research.google.com/assets/colab-badge.svg\" alt=\"Open In Colab\"/></a>"
      ]
    },
    {
      "cell_type": "code",
      "execution_count": null,
      "metadata": {
        "id": "cLDhfnV7-5W4"
      },
      "outputs": [],
      "source": [
        "# 첫 번째 분수의 분자와 분모를 뜻하는 denum1, num1, 두 번째 분수의 분자와 분모를 뜻하는 denum2, num2가 매개변수로 주어집니다. \n",
        "# 두 분수를 더한 값을 기약 분수로 나타냈을 때 분자와 분모를 순서대로 담은 배열을 return 하도록 solution 함수를 완성해보세요.\n",
        "def solution(denum1, num1, denum2, num2):\n",
        "    answer = []\n",
        "    # if num1%num2 ==0:\n",
        "    #     answer.append(((num1//num2)*denum2)+ denum1)\n",
        "    #     answer.append(num1)\n",
        "    # elif num1 == num2:\n",
        "    #     answer.append(denum1 + denum2)\n",
        "    #     answer.append(num1)\n",
        "    # elif num2%num1 == 0:#3412\n",
        "    #     answer.append(((num2//num1)*denum1)+ denum2)\n",
        "    #     answer.append(num2)   \n",
        "    # else:\n",
        "    #     answer.append((denum1*num2)+(denum2*num1))\n",
        "    #     answer.append(num1*num2)\n",
        "    answer.append((denum1 * num2) + (denum2*num1))\n",
        "    answer.append(num1*num2)\n",
        "    a = 1\n",
        "    while a <= answer[1]:\n",
        "        if answer[0]%a ==0 and answer[1]%a ==0:\n",
        "            answer.append(answer[0]//a)\n",
        "            answer.append(answer[1]//a)\n",
        "        a+=1     \n",
        "        \n",
        "    return [answer[-2],answer[-1]]"
      ]
    }
  ]
}