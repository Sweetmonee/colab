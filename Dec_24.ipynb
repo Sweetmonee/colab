{
  "nbformat": 4,
  "nbformat_minor": 0,
  "metadata": {
    "colab": {
      "provenance": [],
      "authorship_tag": "ABX9TyPhImRXqNfcYxdGMUpnlEq2",
      "include_colab_link": true
    },
    "kernelspec": {
      "name": "python3",
      "display_name": "Python 3"
    },
    "language_info": {
      "name": "python"
    }
  },
  "cells": [
    {
      "cell_type": "markdown",
      "metadata": {
        "id": "view-in-github",
        "colab_type": "text"
      },
      "source": [
        "<a href=\"https://colab.research.google.com/github/Sweetmonee/colab/blob/main/Dec_24.ipynb\" target=\"_parent\"><img src=\"https://colab.research.google.com/assets/colab-badge.svg\" alt=\"Open In Colab\"/></a>"
      ]
    },
    {
      "cell_type": "code",
      "execution_count": null,
      "metadata": {
        "id": "4S1OXsZLJmvZ"
      },
      "outputs": [],
      "source": [
        "# 1부터 13까지의 수에서, 1은 1, 10, 11, 12, 13 이렇게 총 6번 등장합니다. \n",
        "# 정수 i, j, k가 매개변수로 주어질 때, i부터 j까지 k가 몇 번 등장하는지 return 하도록 solution 함수를 완성해주세요.\n",
        "def solution(i, j, k):\n",
        "    answer = 0\n",
        "    numbers = []\n",
        "    for n in range(i,j+1):\n",
        "        numbers.append(str(n))\n",
        "    numbers1 = \"\".join(numbers)\n",
        "    numbers2 = list(map(int, numbers1))\n",
        "    for i in numbers2:\n",
        "        if i == k:\n",
        "            answer += 1\n",
        "    return answer"
      ]
    }
  ]
}