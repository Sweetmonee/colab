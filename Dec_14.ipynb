{
  "nbformat": 4,
  "nbformat_minor": 0,
  "metadata": {
    "colab": {
      "provenance": [],
      "authorship_tag": "ABX9TyMb0exjqsdmyisOew2Jpoef",
      "include_colab_link": true
    },
    "kernelspec": {
      "name": "python3",
      "display_name": "Python 3"
    },
    "language_info": {
      "name": "python"
    }
  },
  "cells": [
    {
      "cell_type": "markdown",
      "metadata": {
        "id": "view-in-github",
        "colab_type": "text"
      },
      "source": [
        "<a href=\"https://colab.research.google.com/github/Sweetmonee/colab/blob/main/Dec_14.ipynb\" target=\"_parent\"><img src=\"https://colab.research.google.com/assets/colab-badge.svg\" alt=\"Open In Colab\"/></a>"
      ]
    },
    {
      "cell_type": "code",
      "execution_count": null,
      "metadata": {
        "id": "IY73JsBliufO"
      },
      "outputs": [],
      "source": [
        "#머쓱이는 행운의 숫자 7을 가장 좋아합니다. 정수 배열 array가 매개변수로 주어질 때, 7이 총 몇 개 있는지 return 하도록 solution 함수를 완성해보세요.\n",
        "\n",
        "def solution(array):\n",
        "    answer = 0\n",
        "    numbers = []\n",
        "    for i in array:\n",
        "        d = i//10000\n",
        "        c = (i-(d*10000))//1000\n",
        "        b = (i-(d*10000)-(c*1000))//100\n",
        "        a = (i-(d*10000)-(c*1000)-(b*100))//10\n",
        "        if 0 < i < 10:\n",
        "            numbers.append(i)\n",
        "        elif 10 <= i <100:\n",
        "            numbers.append(i//10)\n",
        "            numbers.append(i%10)\n",
        "        elif 100 <= i <1000:\n",
        "            numbers.append(b)\n",
        "            numbers.append(a)\n",
        "            numbers.append(i%10)\n",
        "        elif 1000<= i < 10000:\n",
        "            numbers.append(a)\n",
        "            numbers.append(b)\n",
        "            numbers.append(c)\n",
        "            numbers.append(i%10)\n",
        "        elif 10000<= i <= 100000:\n",
        "            numbers.append(a)\n",
        "            numbers.append(b)\n",
        "            numbers.append(c)\n",
        "            numbers.append(d)\n",
        "            numbers.append(i%10)\n",
        "    for j in numbers:\n",
        "        if j == 7:\n",
        "            answer += 1\n",
        "            \n",
        "            \n",
        "    \n",
        "    return answer"
      ]
    }
  ]
}