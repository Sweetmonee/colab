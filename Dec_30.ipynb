{
  "nbformat": 4,
  "nbformat_minor": 0,
  "metadata": {
    "colab": {
      "provenance": [],
      "authorship_tag": "ABX9TyOx9OZL2Cj7NNenv2LyQXwk",
      "include_colab_link": true
    },
    "kernelspec": {
      "name": "python3",
      "display_name": "Python 3"
    },
    "language_info": {
      "name": "python"
    }
  },
  "cells": [
    {
      "cell_type": "markdown",
      "metadata": {
        "id": "view-in-github",
        "colab_type": "text"
      },
      "source": [
        "<a href=\"https://colab.research.google.com/github/Sweetmonee/colab/blob/main/Dec_30.ipynb\" target=\"_parent\"><img src=\"https://colab.research.google.com/assets/colab-badge.svg\" alt=\"Open In Colab\"/></a>"
      ]
    },
    {
      "cell_type": "code",
      "execution_count": null,
      "metadata": {
        "id": "bg9pUB8_CZdV"
      },
      "outputs": [],
      "source": [
        "# 문자열 my_string이 매개변수로 주어집니다. my_string은 소문자, 대문자, 자연수로만 구성되어있습니다. my_string안의 자연수들의 합을 return하도록 solution 함수를 완성해주세요.\n",
        "def solution(my_string):\n",
        "    answer = 0\n",
        "    \n",
        "    num = ''\n",
        "    \n",
        "    for c in my_string:\n",
        "        if c.isdigit():\n",
        "            num += c\n",
        "        else:\n",
        "            if len(num) == 0:\n",
        "                continue\n",
        "            answer += int(num)\n",
        "            num = ''\n",
        "            \n",
        "    if len(num) != 0:\n",
        "        answer += int(num)\n",
        "    \n",
        "    return answer"
      ]
    }
  ]
}