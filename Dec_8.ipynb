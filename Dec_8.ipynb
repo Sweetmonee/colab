{
  "nbformat": 4,
  "nbformat_minor": 0,
  "metadata": {
    "colab": {
      "provenance": [],
      "authorship_tag": "ABX9TyMkAPy+KmWis0kISCUiJ+TO",
      "include_colab_link": true
    },
    "kernelspec": {
      "name": "python3",
      "display_name": "Python 3"
    },
    "language_info": {
      "name": "python"
    }
  },
  "cells": [
    {
      "cell_type": "markdown",
      "metadata": {
        "id": "view-in-github",
        "colab_type": "text"
      },
      "source": [
        "<a href=\"https://colab.research.google.com/github/Sweetmonee/colab/blob/main/Dec_8.ipynb\" target=\"_parent\"><img src=\"https://colab.research.google.com/assets/colab-badge.svg\" alt=\"Open In Colab\"/></a>"
      ]
    },
    {
      "cell_type": "code",
      "execution_count": null,
      "metadata": {
        "id": "c8ykYx9h-MTD"
      },
      "outputs": [],
      "source": [
        "# 머쓱이네 피자가게는 피자를 여섯 조각으로 잘라 줍니다. 피자를 나눠먹을 사람의 수 n이 매개변수로 주어질 때, \n",
        "# n명이 주문한 피자를 남기지 않고 모두 같은 수의 피자 조각을 먹어야 한다면 최소 몇 판을 시켜야 하는지를 return 하도록 solution 함수를 완성해보세요.\n",
        "def solution(n):\n",
        "    pizza = 0\n",
        "    if n%6 == 1:\n",
        "        pizza = n\n",
        "    elif n%6 == 2:\n",
        "        pizza = (n* 3) // 6 \n",
        "    elif n%6 == 3:\n",
        "        pizza = (n* 2) // 6\n",
        "    elif n%6 == 4:\n",
        "        pizza = (n* 3) // 6\n",
        "    elif n%6 == 5:\n",
        "        pizza = n\n",
        "    else:\n",
        "        pizza = n//6\n",
        "    return pizza        \n",
        "#     1-1 6조각\n",
        "#     2-1 3조각\n",
        "#     3-1 2조각\n",
        "#     4-2 3조각\n",
        "#     5-5 6조각 \n",
        "#     6-1 1조각\n",
        "    \n",
        "#     7-7 6조각\n",
        "#     8-4 3조각\n",
        "#     9-3 2조각\n",
        "#     10-5 3조각\n",
        "#     11-11 6조각\n",
        "#     12-2 1조각\n"
      ]
    },
    {
      "cell_type": "markdown",
      "source": [],
      "metadata": {
        "id": "ifjE4xHq-W9O"
      }
    },
    {
      "cell_type": "code",
      "source": [
        "# 정수 배열 numbers가 매개변수로 주어집니다. numbers의 원소 중 두 개를 곱해 만들 수 있는 최댓값을 return하도록 solution 함수를 완성해주세요.\n",
        "def solution(numbers):\n",
        "    answer = 0\n",
        "    numbers.sort()\n",
        "    answerlist = []\n",
        "    number = 0\n",
        "    while number < len(numbers)-1:\n",
        "        answerlist.append(numbers[number]*numbers[number+1])\n",
        "        number +=1\n",
        "    answerlist.sort()    \n",
        "    return answerlist[-1]"
      ],
      "metadata": {
        "id": "z295iEfl-XDi"
      },
      "execution_count": null,
      "outputs": []
    },
    {
      "cell_type": "code",
      "source": [
        "# 정수가 담긴 배열 numbers와 문자열 direction가 매개변수로 주어집니다. 배열 numbers의 원소를 direction방향으로 한 칸씩 회전시킨 배열을 return하도록 solution 함수를 완성해주세요.\n",
        "\n",
        "\n",
        "def solution(numbers, direction):\n",
        "    answer = []\n",
        "    n = 0\n",
        "    for i in range(len(numbers)):\n",
        "        if direction == 'right':\n",
        "            answer.append(numbers[i-1])\n",
        "    for i in range(len(numbers)-1):\n",
        "        if direction == 'left':\n",
        "            answer.append(numbers[i+1])\n",
        "        \n",
        "    if direction =='left':\n",
        "        answer.append(numbers[0])\n",
        "                \n",
        "        # elif direction == 'left':\n",
        "        #     while i < len(numbers) - 1:\n",
        "        #         answer.append(numbers[i+1])\n",
        "            \n",
        "    return answer"
      ],
      "metadata": {
        "id": "LPxg056JX1Ym"
      },
      "execution_count": null,
      "outputs": []
    }
  ]
}