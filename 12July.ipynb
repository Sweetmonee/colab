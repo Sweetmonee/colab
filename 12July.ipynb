{
  "nbformat": 4,
  "nbformat_minor": 0,
  "metadata": {
    "colab": {
      "name": "12July.ipynb",
      "provenance": [],
      "authorship_tag": "ABX9TyOEukoDhfHezPM5XA+09TgA",
      "include_colab_link": true
    },
    "kernelspec": {
      "name": "python3",
      "display_name": "Python 3"
    },
    "language_info": {
      "name": "python"
    }
  },
  "cells": [
    {
      "cell_type": "markdown",
      "metadata": {
        "id": "view-in-github",
        "colab_type": "text"
      },
      "source": [
        "<a href=\"https://colab.research.google.com/github/Sweetmonee/colab/blob/main/12July.ipynb\" target=\"_parent\"><img src=\"https://colab.research.google.com/assets/colab-badge.svg\" alt=\"Open In Colab\"/></a>"
      ]
    },
    {
      "cell_type": "code",
      "execution_count": 6,
      "metadata": {
        "colab": {
          "base_uri": "https://localhost:8080/"
        },
        "id": "83IJq-PLDi-Q",
        "outputId": "7267e25f-1ccf-4152-f398-e4c1c533fdf2"
      },
      "outputs": [
        {
          "output_type": "stream",
          "name": "stdout",
          "text": [
            "제 나이는 10 입니다\n",
            "제 나이는 10 입니다, 제이름은 choijaehun입니다.\n",
            " 제 나이는 10 입니다. 제 이름은 choijaehun 입니다. \n"
          ]
        }
      ],
      "source": [
        "#3.6 Verision\n",
        "age=10\n",
        "name = 'choijaehun'\n",
        "print('제 나이는', age, '입니다')\n",
        "print('제 나이는 {} 입니다, 제이름은 {}입니다.'. format(age, name))\n",
        "print(f' 제 나이는 {age} 입니다. 제 이름은 {name} 입니다. ')"
      ]
    },
    {
      "cell_type": "code",
      "source": [
        "for i in range(1,10):\n",
        "    for j in range(1,10):\n",
        "        print(f'{i} X{j} = {i*j}')"
      ],
      "metadata": {
        "colab": {
          "base_uri": "https://localhost:8080/"
        },
        "id": "63TpBwhiGRGn",
        "outputId": "c3057a6f-7299-466d-e20f-b8b9b4b57a7b"
      },
      "execution_count": 12,
      "outputs": [
        {
          "output_type": "stream",
          "name": "stdout",
          "text": [
            "1 X1 = 1\n",
            "1 X2 = 2\n",
            "1 X3 = 3\n",
            "1 X4 = 4\n",
            "1 X5 = 5\n",
            "1 X6 = 6\n",
            "1 X7 = 7\n",
            "1 X8 = 8\n",
            "1 X9 = 9\n",
            "2 X1 = 2\n",
            "2 X2 = 4\n",
            "2 X3 = 6\n",
            "2 X4 = 8\n",
            "2 X5 = 10\n",
            "2 X6 = 12\n",
            "2 X7 = 14\n",
            "2 X8 = 16\n",
            "2 X9 = 18\n",
            "3 X1 = 3\n",
            "3 X2 = 6\n",
            "3 X3 = 9\n",
            "3 X4 = 12\n",
            "3 X5 = 15\n",
            "3 X6 = 18\n",
            "3 X7 = 21\n",
            "3 X8 = 24\n",
            "3 X9 = 27\n",
            "4 X1 = 4\n",
            "4 X2 = 8\n",
            "4 X3 = 12\n",
            "4 X4 = 16\n",
            "4 X5 = 20\n",
            "4 X6 = 24\n",
            "4 X7 = 28\n",
            "4 X8 = 32\n",
            "4 X9 = 36\n",
            "5 X1 = 5\n",
            "5 X2 = 10\n",
            "5 X3 = 15\n",
            "5 X4 = 20\n",
            "5 X5 = 25\n",
            "5 X6 = 30\n",
            "5 X7 = 35\n",
            "5 X8 = 40\n",
            "5 X9 = 45\n",
            "6 X1 = 6\n",
            "6 X2 = 12\n",
            "6 X3 = 18\n",
            "6 X4 = 24\n",
            "6 X5 = 30\n",
            "6 X6 = 36\n",
            "6 X7 = 42\n",
            "6 X8 = 48\n",
            "6 X9 = 54\n",
            "7 X1 = 7\n",
            "7 X2 = 14\n",
            "7 X3 = 21\n",
            "7 X4 = 28\n",
            "7 X5 = 35\n",
            "7 X6 = 42\n",
            "7 X7 = 49\n",
            "7 X8 = 56\n",
            "7 X9 = 63\n",
            "8 X1 = 8\n",
            "8 X2 = 16\n",
            "8 X3 = 24\n",
            "8 X4 = 32\n",
            "8 X5 = 40\n",
            "8 X6 = 48\n",
            "8 X7 = 56\n",
            "8 X8 = 64\n",
            "8 X9 = 72\n",
            "9 X1 = 9\n",
            "9 X2 = 18\n",
            "9 X3 = 27\n",
            "9 X4 = 36\n",
            "9 X5 = 45\n",
            "9 X6 = 54\n",
            "9 X7 = 63\n",
            "9 X8 = 72\n",
            "9 X9 = 81\n"
          ]
        }
      ]
    },
    {
      "cell_type": "code",
      "source": [
        "import datetime"
      ],
      "metadata": {
        "id": "ON695OPwGxS2"
      },
      "execution_count": 18,
      "outputs": []
    },
    {
      "cell_type": "code",
      "source": [
        "date= datetime.datetime.now()\n",
        "f'{date: }'"
      ],
      "metadata": {
        "colab": {
          "base_uri": "https://localhost:8080/",
          "height": 35
        },
        "id": "0YB1VTPHGuH4",
        "outputId": "f6d80312-ba1b-4caa-aa10-93a8de137126"
      },
      "execution_count": 27,
      "outputs": [
        {
          "output_type": "execute_result",
          "data": {
            "text/plain": [
              "' 07'"
            ],
            "application/vnd.google.colaboratory.intrinsic+json": {
              "type": "string"
            }
          },
          "metadata": {},
          "execution_count": 27
        }
      ]
    },
    {
      "cell_type": "code",
      "source": [
        "print(f'{\"Hello\":!<10}')\n",
        "print(f'{\"Hello\":=>10}')\n",
        "f'{\"Hello\":=>10}'\n",
        "f'{\"Hello\":~^10}'\n"
      ],
      "metadata": {
        "colab": {
          "base_uri": "https://localhost:8080/",
          "height": 72
        },
        "id": "UO-Z7ljQHVNw",
        "outputId": "5226b76e-3a96-4bd1-83dc-7eee605a1a51"
      },
      "execution_count": 34,
      "outputs": [
        {
          "output_type": "stream",
          "name": "stdout",
          "text": [
            "Hello!!!!!\n",
            "=====Hello\n"
          ]
        },
        {
          "output_type": "execute_result",
          "data": {
            "text/plain": [
              "'~~Hello~~~'"
            ],
            "application/vnd.google.colaboratory.intrinsic+json": {
              "type": "string"
            }
          },
          "metadata": {},
          "execution_count": 34
        }
      ]
    },
    {
      "cell_type": "code",
      "source": [
        "testList = list(range(1,10))\n",
        "while testList:\n",
        "  n=testList.pop()\n",
        "  print(n)"
      ],
      "metadata": {
        "colab": {
          "base_uri": "https://localhost:8080/"
        },
        "id": "dGRG2BTtHQ9Z",
        "outputId": "2f9d280f-816e-4cfd-d919-b72bdaf48673"
      },
      "execution_count": 37,
      "outputs": [
        {
          "output_type": "stream",
          "name": "stdout",
          "text": [
            "9\n",
            "8\n",
            "7\n",
            "6\n",
            "5\n",
            "4\n",
            "3\n",
            "2\n",
            "1\n"
          ]
        }
      ]
    },
    {
      "cell_type": "code",
      "source": [
        "testList = list(range(1,10))\n",
        "while (n := testList.pop()):\n",
        "   print(n)"
      ],
      "metadata": {
        "colab": {
          "base_uri": "https://localhost:8080/",
          "height": 136
        },
        "id": "kEKnT_pWNkf5",
        "outputId": "c3dc2d73-41a3-47d3-8cb2-fe248eb62ad8"
      },
      "execution_count": 43,
      "outputs": [
        {
          "output_type": "error",
          "ename": "SyntaxError",
          "evalue": "ignored",
          "traceback": [
            "\u001b[0;36m  File \u001b[0;32m\"<ipython-input-43-f75d9241d442>\"\u001b[0;36m, line \u001b[0;32m2\u001b[0m\n\u001b[0;31m    while (n := testList.pop()):\u001b[0m\n\u001b[0m             ^\u001b[0m\n\u001b[0;31mSyntaxError\u001b[0m\u001b[0;31m:\u001b[0m invalid syntax\n"
          ]
        }
      ]
    },
    {
      "cell_type": "code",
      "source": [
        "count = 0\n",
        "result = 0\n",
        "while (count := count + 1) < 101 and (result :=result + count): pass\n",
        "  print(result)"
      ],
      "metadata": {
        "colab": {
          "base_uri": "https://localhost:8080/",
          "height": 136
        },
        "id": "vB0AXyGGOLhZ",
        "outputId": "bea096fd-16e3-4adf-c6c1-ce530c1a5c0a"
      },
      "execution_count": 58,
      "outputs": [
        {
          "output_type": "error",
          "ename": "SyntaxError",
          "evalue": "ignored",
          "traceback": [
            "\u001b[0;36m  File \u001b[0;32m\"<ipython-input-58-c2e03f7713f9>\"\u001b[0;36m, line \u001b[0;32m3\u001b[0m\n\u001b[0;31m    while (count := count + 1) < 101 and (result :=result + count): pass\u001b[0m\n\u001b[0m                 ^\u001b[0m\n\u001b[0;31mSyntaxError\u001b[0m\u001b[0;31m:\u001b[0m invalid syntax\n"
          ]
        }
      ]
    },
    {
      "cell_type": "code",
      "source": [
        "name='jaehun'\n",
        "age= 10\n",
        "print(f' I am {name}')\n",
        "print(f'{name=}')"
      ],
      "metadata": {
        "colab": {
          "base_uri": "https://localhost:8080/",
          "height": 136
        },
        "id": "9In4rlpUQQqq",
        "outputId": "01021d6d-db7e-4bd8-8dc1-2ccb5eb1efbe"
      },
      "execution_count": 64,
      "outputs": [
        {
          "output_type": "error",
          "ename": "SyntaxError",
          "evalue": "ignored",
          "traceback": [
            "\u001b[0;36m  File \u001b[0;32m\"<fstring>\"\u001b[0;36m, line \u001b[0;32m1\u001b[0m\n\u001b[0;31m    (name=)\u001b[0m\n\u001b[0m         ^\u001b[0m\n\u001b[0;31mSyntaxError\u001b[0m\u001b[0;31m:\u001b[0m invalid syntax\n"
          ]
        }
      ]
    },
    {
      "cell_type": "code",
      "source": [
        "x = 3\n",
        "y = 7\n",
        "print(x + y)"
      ],
      "metadata": {
        "colab": {
          "base_uri": "https://localhost:8080/"
        },
        "id": "rPaLn_LwUShq",
        "outputId": "f3515f6a-524b-43bc-ca80-2aa29a9b9bf2"
      },
      "execution_count": 70,
      "outputs": [
        {
          "output_type": "stream",
          "name": "stdout",
          "text": [
            "10\n"
          ]
        }
      ]
    },
    {
      "cell_type": "code",
      "source": [
        "#hello world\n",
        "print(\"hello world\")\n"
      ],
      "metadata": {
        "colab": {
          "base_uri": "https://localhost:8080/"
        },
        "id": "G-wFbtr0UgTC",
        "outputId": "2413b768-cf72-4765-cc65-4f4d8218e3ed"
      },
      "execution_count": 72,
      "outputs": [
        {
          "output_type": "stream",
          "name": "stdout",
          "text": [
            "hello world\n"
          ]
        }
      ]
    },
    {
      "cell_type": "code",
      "source": [
        "a = True\n",
        "b = False\n",
        "print(type(a))"
      ],
      "metadata": {
        "colab": {
          "base_uri": "https://localhost:8080/"
        },
        "id": "Sv6f7NWVUklr",
        "outputId": "0d3f2052-70a6-4bc6-ab22-472524ef3837"
      },
      "execution_count": 74,
      "outputs": [
        {
          "output_type": "stream",
          "name": "stdout",
          "text": [
            "<class 'bool'>\n"
          ]
        }
      ]
    },
    {
      "cell_type": "code",
      "source": [
        "print(bool(' '))\n",
        "print(bool(''))\n",
        "print(bool(''))\n",
        "print(bool(''))\n"
      ],
      "metadata": {
        "colab": {
          "base_uri": "https://localhost:8080/"
        },
        "id": "nuWGzCqPa2pk",
        "outputId": "ac80e720-d650-42cb-d78f-a6f0a43c4348"
      },
      "execution_count": 78,
      "outputs": [
        {
          "output_type": "stream",
          "name": "stdout",
          "text": [
            "True\n",
            "False\n",
            "False\n",
            "False\n"
          ]
        }
      ]
    },
    {
      "cell_type": "code",
      "source": [
        "a=10 #정수 int\n",
        "b=10.1 #실수float\n",
        "c='hello world'# 문자열 str\n",
        "s= 'i am choijaehun'\n",
        "print(s[10:0:-1])\n",
        "print(s.upper())\n",
        "print(s.lower())\n",
        "s.count('i')\n",
        "ss= '    hello world    '\n",
        "print(ss.strip())\n",
        "print(s.split())\n",
        "a= s.split(' ')\n",
        "print('!'.join(a))"
      ],
      "metadata": {
        "colab": {
          "base_uri": "https://localhost:8080/"
        },
        "id": "2Sal58wlf21e",
        "outputId": "f47acaef-8730-405e-bf5f-86e21d6188df"
      },
      "execution_count": 99,
      "outputs": [
        {
          "output_type": "stream",
          "name": "stdout",
          "text": [
            "ajiohc ma \n",
            "I AM CHOIJAEHUN\n",
            "i am choijaehun\n",
            "hello world\n",
            "['i', 'am', 'choijaehun']\n",
            "i!am!choijaehun\n"
          ]
        }
      ]
    },
    {
      "cell_type": "code",
      "source": [
        "a= 2022\n",
        "b= 7\n",
        "c= 12\n",
        "print(a,b,c, sep='/')"
      ],
      "metadata": {
        "colab": {
          "base_uri": "https://localhost:8080/"
        },
        "id": "p2U3oXzJiIK3",
        "outputId": "252f860e-33c1-45d1-a010-216bbc518b37"
      },
      "execution_count": 102,
      "outputs": [
        {
          "output_type": "stream",
          "name": "stdout",
          "text": [
            "2022/7/12\n"
          ]
        }
      ]
    },
    {
      "cell_type": "code",
      "source": [
        "a=10\n",
        "b='10'\n",
        "print(a+int(b))"
      ],
      "metadata": {
        "colab": {
          "base_uri": "https://localhost:8080/"
        },
        "id": "wSdtE6MCjU-g",
        "outputId": "8e4a62c3-8a42-44b9-9abf-986a13dfe2c3"
      },
      "execution_count": 106,
      "outputs": [
        {
          "output_type": "stream",
          "name": "stdout",
          "text": [
            "20\n"
          ]
        }
      ]
    },
    {
      "cell_type": "code",
      "source": [
        "# 논리연산\n",
        "a = True       #1\n",
        "b= False       #0\n",
        "print(a and b)  #*\n",
        "print(a or b)   #+\n",
        "print(not b)    #반대"
      ],
      "metadata": {
        "colab": {
          "base_uri": "https://localhost:8080/"
        },
        "id": "KEKRpgSWkSyn",
        "outputId": "fbc0f887-2b41-4c0b-f46c-a04461fdb52a"
      },
      "execution_count": 108,
      "outputs": [
        {
          "output_type": "stream",
          "name": "stdout",
          "text": [
            "False\n",
            "True\n",
            "True\n"
          ]
        }
      ]
    },
    {
      "cell_type": "code",
      "source": [
        "# 할당연산\n",
        "a = 10\n",
        "a +=10\n",
        "print(a)"
      ],
      "metadata": {
        "colab": {
          "base_uri": "https://localhost:8080/"
        },
        "id": "OI6mV7Bzk9_A",
        "outputId": "3b8ad09b-a797-4357-e823-9e81891976be"
      },
      "execution_count": 110,
      "outputs": [
        {
          "output_type": "stream",
          "name": "stdout",
          "text": [
            "20\n"
          ]
        }
      ]
    },
    {
      "cell_type": "code",
      "source": [
        "# bit연산\n",
        "a=40\n",
        "b=14\n",
        "print(a & b)\n"
      ],
      "metadata": {
        "id": "PKo2_3pqlGaA"
      },
      "execution_count": null,
      "outputs": []
    }
  ]
}