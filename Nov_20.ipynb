{
  "nbformat": 4,
  "nbformat_minor": 0,
  "metadata": {
    "colab": {
      "provenance": [],
      "authorship_tag": "ABX9TyMPVc8nYz1VNkub+SfCYqPE",
      "include_colab_link": true
    },
    "kernelspec": {
      "name": "python3",
      "display_name": "Python 3"
    },
    "language_info": {
      "name": "python"
    }
  },
  "cells": [
    {
      "cell_type": "markdown",
      "metadata": {
        "id": "view-in-github",
        "colab_type": "text"
      },
      "source": [
        "<a href=\"https://colab.research.google.com/github/Sweetmonee/colab/blob/main/Nov_20.ipynb\" target=\"_parent\"><img src=\"https://colab.research.google.com/assets/colab-badge.svg\" alt=\"Open In Colab\"/></a>"
      ]
    },
    {
      "cell_type": "code",
      "execution_count": 4,
      "metadata": {
        "id": "wXP69__UiKUx"
      },
      "outputs": [],
      "source": [
        "#dots가 x,y축에 평행한 직사각형일때 4개의 좌표 정보를 담고있는 list dots가 넓이값을 리턴하도록 하여라\n",
        "def solution(dots):\n",
        "    dots = [[0,0],[2,0],[2,2],[0,2]]\n",
        "    result = (max(dots)[0] - min(dots)[0])*(max(dots)[1] - min(dots)[1])\n",
        "    return result\n",
        "    print(result)"
      ]
    },
    {
      "cell_type": "code",
      "source": [
        "#angle이 각도를 내포하는 매개변수일때 각도에 예각은 1 직각은 2 둔각은 3 평각은 4를 리턴하게 하여라\n",
        "def solution(angle):\n",
        "    answer = 0\n",
        "    if 0 < angle < 90:\n",
        "        answer = 1\n",
        "        \n",
        "    elif angle == 90:\n",
        "        answer = 2\n",
        "        \n",
        "    elif 90< angle <180:\n",
        "        answer = 3\n",
        "        \n",
        "    elif angle == 180:\n",
        "        answer = 4\n",
        "    return answer\n",
        "\n",
        "#1\n",
        "2\n",
        "3\n",
        "4\n",
        "# def solution(angle):\n",
        "#     answer = (angle // 90) * 2 + (angle % 90 > 0) * 1\n",
        "#     return answer\n",
        "#힙스터의 정답\n"
      ],
      "metadata": {
        "id": "8sF9UOGhoMVa"
      },
      "execution_count": null,
      "outputs": []
    },
    {
      "cell_type": "code",
      "source": [
        "#나머지 구하기 매개변수 num1을 num2로 나눈\n",
        "def solution(num1, num2):\n",
        "    answer = num1%num2\n",
        "    return answer"
      ],
      "metadata": {
        "id": "kMlD89DXqkud"
      },
      "execution_count": null,
      "outputs": []
    }
  ]
}