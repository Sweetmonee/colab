{
  "nbformat": 4,
  "nbformat_minor": 0,
  "metadata": {
    "colab": {
      "provenance": [],
      "authorship_tag": "ABX9TyP9fR2mUnX64eg8TQCu/FSM",
      "include_colab_link": true
    },
    "kernelspec": {
      "name": "python3",
      "display_name": "Python 3"
    },
    "language_info": {
      "name": "python"
    }
  },
  "cells": [
    {
      "cell_type": "markdown",
      "metadata": {
        "id": "view-in-github",
        "colab_type": "text"
      },
      "source": [
        "<a href=\"https://colab.research.google.com/github/Sweetmonee/colab/blob/main/Dec_15.ipynb\" target=\"_parent\"><img src=\"https://colab.research.google.com/assets/colab-badge.svg\" alt=\"Open In Colab\"/></a>"
      ]
    },
    {
      "cell_type": "code",
      "execution_count": null,
      "metadata": {
        "id": "6mhymOeNqwxP"
      },
      "outputs": [],
      "source": [
        "# 문자열 my_str과 n이 매개변수로 주어질 때, my_str을 길이 n씩 잘라서 저장한 배열을 return하도록 solution 함수를 완성해주세요.\n",
        "def solution(my_str, n):\n",
        "    answer = []\n",
        "    repeat = len(my_str)//n\n",
        "    a = 0\n",
        "    while a <= repeat:\n",
        "        answer.append(my_str[a*n:(a*n)+n])\n",
        "        a+=1\n",
        "    answer1 = [v for v in answer if v]\n",
        "    return answer1"
      ]
    }
  ]
}