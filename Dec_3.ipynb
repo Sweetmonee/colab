{
  "nbformat": 4,
  "nbformat_minor": 0,
  "metadata": {
    "colab": {
      "provenance": [],
      "authorship_tag": "ABX9TyOBzJauU+uRpUKKEsUAoOMn",
      "include_colab_link": true
    },
    "kernelspec": {
      "name": "python3",
      "display_name": "Python 3"
    },
    "language_info": {
      "name": "python"
    }
  },
  "cells": [
    {
      "cell_type": "markdown",
      "metadata": {
        "id": "view-in-github",
        "colab_type": "text"
      },
      "source": [
        "<a href=\"https://colab.research.google.com/github/Sweetmonee/colab/blob/main/Dec_3.ipynb\" target=\"_parent\"><img src=\"https://colab.research.google.com/assets/colab-badge.svg\" alt=\"Open In Colab\"/></a>"
      ]
    },
    {
      "cell_type": "code",
      "execution_count": null,
      "metadata": {
        "id": "AOWqOncz-sq9"
      },
      "outputs": [],
      "source": [
        "#정수 배열 array가 매개변수로 주어질 때, 가장 큰 수와 그 수의 인덱스를 담은 배열을 return 하도록 solution 함수를 완성해보세요.\n",
        "def solution(array):\n",
        "    answer = [max(array), array.index(max(array))]\n",
        "    return answer"
      ]
    },
    {
      "cell_type": "code",
      "source": [
        "#문자열 my_string이 매개변수로 주어질 때, 대문자는 소문자로 소문자는 대문자로 변환한 문자열을 return하도록 solution 함수를 완성해주세요.\n",
        "def solution(my_string):\n",
        "    ms = list(my_string)\n",
        "    answer = []\n",
        "    for w in ms:\n",
        "        if w.isupper() == True:\n",
        "            answer.append(w.lower())\n",
        "        else:\n",
        "            answer.append(w.upper())\n",
        "    return ''.join(answer)"
      ],
      "metadata": {
        "id": "FTZKoMagCzsa"
      },
      "execution_count": null,
      "outputs": []
    }
  ]
}