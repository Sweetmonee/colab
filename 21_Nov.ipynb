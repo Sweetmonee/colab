{
  "nbformat": 4,
  "nbformat_minor": 0,
  "metadata": {
    "colab": {
      "provenance": [],
      "authorship_tag": "ABX9TyMmur66YJhmEnKUNK5T/+px",
      "include_colab_link": true
    },
    "kernelspec": {
      "name": "python3",
      "display_name": "Python 3"
    },
    "language_info": {
      "name": "python"
    }
  },
  "cells": [
    {
      "cell_type": "markdown",
      "metadata": {
        "id": "view-in-github",
        "colab_type": "text"
      },
      "source": [
        "<a href=\"https://colab.research.google.com/github/Sweetmonee/colab/blob/main/21_Nov.ipynb\" target=\"_parent\"><img src=\"https://colab.research.google.com/assets/colab-badge.svg\" alt=\"Open In Colab\"/></a>"
      ]
    },
    {
      "cell_type": "code",
      "execution_count": null,
      "metadata": {
        "id": "RtGDFjhvf2wI"
      },
      "outputs": [],
      "source": [
        "# 정수 M, N이 매개변수로 주어질 때, M x N 크기의 종이를 최소로 가위질 해야하는 횟수를 return 하도록 solution 함수를 완성해보세요.\n",
        "def solution(M, N):\n",
        "    answer = M*N - 1 \n",
        "    return answer"
      ]
    },
    {
      "cell_type": "code",
      "source": [
        "# 정수 num1과 num2가 주어질 때, num1에서 num2를 뺀 값을 return하도록 soltuion 함수를 완성해주세요.\n",
        "def solution(num1, num2):\n",
        "    answer = num1 - num2\n",
        "    return answer"
      ],
      "metadata": {
        "id": "QC0HtcO0inWv"
      },
      "execution_count": null,
      "outputs": []
    },
    {
      "cell_type": "code",
      "source": [
        "# 정수 num1, num2가 매개변수로 주어질 때, num1을 num2로 나눈 몫을 return 하도록 solution 함수를 완성해주세요.\n",
        "def solution(num1, num2):\n",
        "    answer = num1//num2\n",
        "    return answer"
      ],
      "metadata": {
        "id": "YQvCWJLCinZG"
      },
      "execution_count": null,
      "outputs": []
    },
    {
      "cell_type": "code",
      "source": [
        "# 정수 num1, num2가 매개변수 주어집니다. num1과 num2를 곱한 값을 return 하도록 solution 함수를 완성해주세요.\n",
        "def solution(num1, num2):\n",
        "    answer = num1*num2\n",
        "    return answer"
      ],
      "metadata": {
        "id": "-GO3Rvjminb5"
      },
      "execution_count": null,
      "outputs": []
    },
    {
      "cell_type": "code",
      "source": [
        "#머쓱이는 40살인 선생님이 몇 년도에 태어났는지 궁금해졌습니다. 나이 age가 주어질 때, 2022년을 기준 출생 연도를 return 하는 solution 함수를 완성해주세요.\n",
        "#0 < age ≤ 120\n",
        "#나이는 태어난 연도에 1살이며 1년마다 1씩 증가합니다.\n",
        "def solution(age):\n",
        "    \n",
        "    while age <=120:\n",
        "        result = 2022 - age + 1\n",
        "        return result\n",
        "        print(result)\n",
        "        age = age + 1\n",
        "        "
      ],
      "metadata": {
        "id": "fD9my-rMineP"
      },
      "execution_count": 2,
      "outputs": []
    },
    {
      "cell_type": "code",
      "source": [],
      "metadata": {
        "id": "R4ZvZ9ipinjW"
      },
      "execution_count": null,
      "outputs": []
    },
    {
      "cell_type": "code",
      "source": [],
      "metadata": {
        "id": "DVhyBwSRinmP"
      },
      "execution_count": null,
      "outputs": []
    },
    {
      "cell_type": "code",
      "source": [],
      "metadata": {
        "id": "Ppw7WBXaino-"
      },
      "execution_count": null,
      "outputs": []
    }
  ]
}