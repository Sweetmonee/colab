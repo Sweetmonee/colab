{
  "nbformat": 4,
  "nbformat_minor": 0,
  "metadata": {
    "colab": {
      "provenance": [],
      "authorship_tag": "ABX9TyNt9FXwpGwF48NUAbiG25Zz",
      "include_colab_link": true
    },
    "kernelspec": {
      "name": "python3",
      "display_name": "Python 3"
    },
    "language_info": {
      "name": "python"
    }
  },
  "cells": [
    {
      "cell_type": "markdown",
      "metadata": {
        "id": "view-in-github",
        "colab_type": "text"
      },
      "source": [
        "<a href=\"https://colab.research.google.com/github/Sweetmonee/colab/blob/main/21_Nov.ipynb\" target=\"_parent\"><img src=\"https://colab.research.google.com/assets/colab-badge.svg\" alt=\"Open In Colab\"/></a>"
      ]
    },
    {
      "cell_type": "code",
      "execution_count": null,
      "metadata": {
        "id": "RtGDFjhvf2wI"
      },
      "outputs": [],
      "source": [
        "# 정수 M, N이 매개변수로 주어질 때, M x N 크기의 종이를 최소로 가위질 해야하는 횟수를 return 하도록 solution 함수를 완성해보세요.\n",
        "def solution(M, N):\n",
        "    answer = M*N - 1 \n",
        "    return answer"
      ]
    },
    {
      "cell_type": "code",
      "source": [
        "# 정수 num1과 num2가 주어질 때, num1에서 num2를 뺀 값을 return하도록 soltuion 함수를 완성해주세요.\n",
        "def solution(num1, num2):\n",
        "    answer = num1 - num2\n",
        "    return answer"
      ],
      "metadata": {
        "id": "QC0HtcO0inWv"
      },
      "execution_count": null,
      "outputs": []
    },
    {
      "cell_type": "code",
      "source": [
        "# 정수 num1, num2가 매개변수로 주어질 때, num1을 num2로 나눈 몫을 return 하도록 solution 함수를 완성해주세요.\n",
        "def solution(num1, num2):\n",
        "    answer = num1//num2\n",
        "    return answer"
      ],
      "metadata": {
        "id": "YQvCWJLCinZG"
      },
      "execution_count": null,
      "outputs": []
    },
    {
      "cell_type": "code",
      "source": [
        "# 정수 num1, num2가 매개변수 주어집니다. num1과 num2를 곱한 값을 return 하도록 solution 함수를 완성해주세요.\n",
        "def solution(num1, num2):\n",
        "    answer = num1*num2\n",
        "    return answer"
      ],
      "metadata": {
        "id": "-GO3Rvjminb5"
      },
      "execution_count": null,
      "outputs": []
    },
    {
      "cell_type": "code",
      "source": [
        "#머쓱이는 40살인 선생님이 몇 년도에 태어났는지 궁금해졌습니다. 나이 age가 주어질 때, 2022년을 기준 출생 연도를 return 하는 solution 함수를 완성해주세요.\n",
        "#0 < age ≤ 120\n",
        "#나이는 태어난 연도에 1살이며 1년마다 1씩 증가합니다.\n",
        "def solution(age):\n",
        "    \n",
        "    while age <=120:\n",
        "        result = 2022 - age + 1\n",
        "        return result\n",
        "        print(result)\n",
        "        age = age + 1\n",
        "        "
      ],
      "metadata": {
        "id": "fD9my-rMineP"
      },
      "execution_count": 2,
      "outputs": []
    },
    {
      "cell_type": "code",
      "source": [
        "#정수 num1과 num2가 매개변수로 주어집니다. 두 수가 같으면 1 다르면 -1을 retrun하도록 solution 함수를 완성해주세요.\n",
        "#제한사항\n",
        "# 0 ≤ num1 ≤ 10,000\n",
        "# 0 ≤ num2 ≤ 10,000\n",
        "def solution(num1, num2):\n",
        "    if num1 == num2:\n",
        "        answer = 1\n",
        "    else:\n",
        "        answer = -1\n",
        "    return answer"
      ],
      "metadata": {
        "id": "R4ZvZ9ipinjW"
      },
      "execution_count": null,
      "outputs": []
    },
    {
      "cell_type": "code",
      "source": [
        "#두 수의 나눗셈\n",
        "def solution(num1, num2):\n",
        "    answer = (num1/num2) * 1000 // 1\n",
        "    return answer"
      ],
      "metadata": {
        "id": "DVhyBwSRinmP"
      },
      "execution_count": null,
      "outputs": []
    },
    {
      "cell_type": "code",
      "source": [
        "# 정수 n이 주어질 때, n이하의 짝수를 모두 더한 값을 return 하도록 solution 함수를 작성해주세요.\n",
        "\n",
        "\n",
        "def solution(n):\n",
        "    answer = 0\n",
        "    a = 0\n",
        "    while a <= n:\n",
        "        if a %2 == 0:\n",
        "            answer += a\n",
        "        a += 1\n",
        "        \n",
        "    return answer"
      ],
      "metadata": {
        "id": "Ppw7WBXaino-"
      },
      "execution_count": null,
      "outputs": []
    },
    {
      "cell_type": "code",
      "source": [
        "# 머쓱이네 양꼬치 가게는 10인분을 먹으면 음료수 하나를 서비스로 줍니다. 양꼬치는 1인분에 12,000원, 음료수는 2,000원입니다. \n",
        "# 정수 n과 k가 매개변수로 주어졌을 때, 양꼬치 n인분과 음료수 k개를 먹었다면 총얼마를 지불해야 하는지 return 하도록 solution 함수를 완성해보세요.\n",
        "def solution(n, k):\n",
        "    yang = 12000\n",
        "    softdrink = 2000\n",
        "    answer =  (yang*n) + (softdrink*k)\n",
        "    if n >= 10:\n",
        "        answer = answer - (softdrink*(n//10))\n",
        "    return answer\n"
      ],
      "metadata": {
        "id": "Aues_qaL7xF2"
      },
      "execution_count": null,
      "outputs": []
    },
    {
      "cell_type": "code",
      "source": [
        "# 머쓱이는 학교에서 키 순으로 줄을 설 때 몇 번째로 서야 하는지 궁금해졌습니다. \n",
        "# 머쓱이네 반 친구들의 키가 담긴 정수 배열 array와 머쓱이의 키 height가 매개변수로 주어질 때, 머쓱이보다 키 큰 사람 수를 return 하도록 solution 함수를 완성해보세요.\n",
        "def solution(array, height):\n",
        "\n",
        "    array.sort()\n",
        "    count  = 0\n",
        "    for i in array:\n",
        "        if i > height:\n",
        "            count += 1\n",
        "            \n",
        "    return count\n"
      ],
      "metadata": {
        "id": "3JYKwY047xIc"
      },
      "execution_count": null,
      "outputs": []
    },
    {
      "cell_type": "code",
      "source": [],
      "metadata": {
        "id": "_MzyNGql7xK1"
      },
      "execution_count": null,
      "outputs": []
    },
    {
      "cell_type": "code",
      "source": [],
      "metadata": {
        "id": "Re8JqDI57xNQ"
      },
      "execution_count": null,
      "outputs": []
    },
    {
      "cell_type": "code",
      "source": [],
      "metadata": {
        "id": "TSX5H5kL7xQI"
      },
      "execution_count": null,
      "outputs": []
    }
  ]
}