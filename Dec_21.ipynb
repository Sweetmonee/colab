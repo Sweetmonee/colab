{
  "nbformat": 4,
  "nbformat_minor": 0,
  "metadata": {
    "colab": {
      "provenance": [],
      "authorship_tag": "ABX9TyNQqH0IEdz0YBmO4eFlri7k",
      "include_colab_link": true
    },
    "kernelspec": {
      "name": "python3",
      "display_name": "Python 3"
    },
    "language_info": {
      "name": "python"
    }
  },
  "cells": [
    {
      "cell_type": "markdown",
      "metadata": {
        "id": "view-in-github",
        "colab_type": "text"
      },
      "source": [
        "<a href=\"https://colab.research.google.com/github/Sweetmonee/colab/blob/main/Dec_21.ipynb\" target=\"_parent\"><img src=\"https://colab.research.google.com/assets/colab-badge.svg\" alt=\"Open In Colab\"/></a>"
      ]
    },
    {
      "cell_type": "code",
      "execution_count": null,
      "metadata": {
        "id": "RkmF2j7j9Ezn"
      },
      "outputs": [],
      "source": [
        "# 약수의 개수가 세 개 이상인 수를 합성수라고 합니다. \n",
        "# 자연수 n이 매개변수로 주어질 때 n이하의 합성수의 개수를 return하도록 solution 함수를 완성해주세요.\n",
        "def solution(n):\n",
        "    answer = 0\n",
        "    numbers = []\n",
        "    for i in range(2,n+1):\n",
        "        for j in range(2,n+1):\n",
        "            if i * j <= n:\n",
        "                numbers.append(i * j)\n",
        "    numbers1 = list(set(numbers))\n",
        "    return len(numbers1)"
      ]
    }
  ]
}