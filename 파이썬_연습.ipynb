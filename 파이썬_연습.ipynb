{
  "nbformat": 4,
  "nbformat_minor": 0,
  "metadata": {
    "colab": {
      "name": "파이썬 연습.ipynb",
      "provenance": [],
      "authorship_tag": "ABX9TyPYKd7o8D2BOGpoO6RzXPYS",
      "include_colab_link": true
    },
    "kernelspec": {
      "name": "python3",
      "display_name": "Python 3"
    },
    "language_info": {
      "name": "python"
    }
  },
  "cells": [
    {
      "cell_type": "markdown",
      "metadata": {
        "id": "view-in-github",
        "colab_type": "text"
      },
      "source": [
        "<a href=\"https://colab.research.google.com/github/Sweetmonee/colab/blob/main/%ED%8C%8C%EC%9D%B4%EC%8D%AC_%EC%97%B0%EC%8A%B5.ipynb\" target=\"_parent\"><img src=\"https://colab.research.google.com/assets/colab-badge.svg\" alt=\"Open In Colab\"/></a>"
      ]
    },
    {
      "cell_type": "code",
      "execution_count": null,
      "metadata": {
        "colab": {
          "base_uri": "https://localhost:8080/"
        },
        "id": "VSJTk7Ji29cs",
        "outputId": "a3bf2318-fa6f-43de-e7ce-63ca557e7bea"
      },
      "outputs": [
        {
          "output_type": "stream",
          "name": "stdout",
          "text": [
            "8\n",
            "0101000\n",
            "0001110\n"
          ]
        }
      ],
      "source": [
        "# bit연산\n",
        "a = 40\n",
        "b = 14\n",
        "print(a&b)\n",
        "print(bin(a)[2:].zfill(7)) \n",
        "print(bin(b)[2:].zfill(7))\n",
        "# 101000\n",
        "# 001110"
      ]
    },
    {
      "cell_type": "code",
      "source": [
        "def f(x,y):#파라미터\n",
        "    z = x + y\n",
        "    return z\n",
        "print(f(3,5))#아규먼트"
      ],
      "metadata": {
        "colab": {
          "base_uri": "https://localhost:8080/"
        },
        "id": "4Bbs6zvB6sVU",
        "outputId": "184cc1b7-3ac7-481b-c944-0dd688d6691c"
      },
      "execution_count": null,
      "outputs": [
        {
          "output_type": "stream",
          "name": "stdout",
          "text": [
            "8\n"
          ]
        }
      ]
    },
    {
      "cell_type": "markdown",
      "source": [
        "# 14July\n"
      ],
      "metadata": {
        "id": "CLkYvYo7Xewo"
      }
    },
    {
      "cell_type": "code",
      "source": [
        "def ff():\n",
        "    print('1')\n",
        "    print('2')\n",
        "    print('3')\n",
        "print(4)\n",
        "ff()\n"
      ],
      "metadata": {
        "colab": {
          "base_uri": "https://localhost:8080/"
        },
        "id": "8OfWz5OcXlXv",
        "outputId": "832a8ec9-b6e7-4136-ee42-a07590ba0d37"
      },
      "execution_count": 1,
      "outputs": [
        {
          "output_type": "stream",
          "name": "stdout",
          "text": [
            "4\n",
            "1\n",
            "2\n",
            "3\n"
          ]
        }
      ]
    },
    {
      "cell_type": "code",
      "source": [
        "def circle(r):\n",
        "    width = r*r*3.14\n",
        "    return width\n",
        "print(circle(10))"
      ],
      "metadata": {
        "colab": {
          "base_uri": "https://localhost:8080/"
        },
        "id": "O7RW9RwxY0TF",
        "outputId": "6fbfe8cb-5d15-4afd-8dab-f9dc9908b203"
      },
      "execution_count": 6,
      "outputs": [
        {
          "output_type": "stream",
          "name": "stdout",
          "text": [
            "314.0\n"
          ]
        }
      ]
    },
    {
      "cell_type": "markdown",
      "source": [
        ""
      ],
      "metadata": {
        "id": "IeiF11lja2vT"
      }
    },
    {
      "cell_type": "code",
      "source": [
        "a = 10\n",
        "def aplus():\n",
        "    global a\n",
        "    a += 10\n",
        "    return a\n",
        "    print(aplus())"
      ],
      "metadata": {
        "id": "TWHhvlDfY-3V"
      },
      "execution_count": 5,
      "outputs": []
    },
    {
      "cell_type": "code",
      "source": [
        ""
      ],
      "metadata": {
        "id": "zmpZUa5-cQSU"
      },
      "execution_count": null,
      "outputs": []
    }
  ]
}