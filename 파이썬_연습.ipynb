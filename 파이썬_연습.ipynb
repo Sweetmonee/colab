{
  "nbformat": 4,
  "nbformat_minor": 0,
  "metadata": {
    "colab": {
      "name": "파이썬 연습.ipynb",
      "provenance": [],
      "authorship_tag": "ABX9TyN2AoUHXDT4EaoP0A2HW1v7",
      "include_colab_link": true
    },
    "kernelspec": {
      "name": "python3",
      "display_name": "Python 3"
    },
    "language_info": {
      "name": "python"
    }
  },
  "cells": [
    {
      "cell_type": "markdown",
      "metadata": {
        "id": "view-in-github",
        "colab_type": "text"
      },
      "source": [
        "<a href=\"https://colab.research.google.com/github/Sweetmonee/colab/blob/main/%ED%8C%8C%EC%9D%B4%EC%8D%AC_%EC%97%B0%EC%8A%B5.ipynb\" target=\"_parent\"><img src=\"https://colab.research.google.com/assets/colab-badge.svg\" alt=\"Open In Colab\"/></a>"
      ]
    },
    {
      "cell_type": "code",
      "execution_count": null,
      "metadata": {
        "colab": {
          "base_uri": "https://localhost:8080/"
        },
        "id": "VSJTk7Ji29cs",
        "outputId": "a3bf2318-fa6f-43de-e7ce-63ca557e7bea"
      },
      "outputs": [
        {
          "output_type": "stream",
          "name": "stdout",
          "text": [
            "8\n",
            "0101000\n",
            "0001110\n"
          ]
        }
      ],
      "source": [
        "# bit연산\n",
        "a = 40\n",
        "b = 14\n",
        "print(a&b)\n",
        "print(bin(a)[2:].zfill(7)) \n",
        "print(bin(b)[2:].zfill(7))\n",
        "# 101000\n",
        "# 001110"
      ]
    },
    {
      "cell_type": "code",
      "source": [
        "def f(x,y):#파라미터\n",
        "    z = x + y\n",
        "    return z\n",
        "print(f(3,5))#아규먼트"
      ],
      "metadata": {
        "colab": {
          "base_uri": "https://localhost:8080/"
        },
        "id": "4Bbs6zvB6sVU",
        "outputId": "184cc1b7-3ac7-481b-c944-0dd688d6691c"
      },
      "execution_count": null,
      "outputs": [
        {
          "output_type": "stream",
          "name": "stdout",
          "text": [
            "8\n"
          ]
        }
      ]
    },
    {
      "cell_type": "markdown",
      "source": [
        "# 14July\n"
      ],
      "metadata": {
        "id": "CLkYvYo7Xewo"
      }
    },
    {
      "cell_type": "code",
      "source": [
        "def ff():\n",
        "    print('1')\n",
        "    print('2')\n",
        "    print('3')\n",
        "print(4)\n",
        "ff()\n"
      ],
      "metadata": {
        "colab": {
          "base_uri": "https://localhost:8080/"
        },
        "id": "8OfWz5OcXlXv",
        "outputId": "832a8ec9-b6e7-4136-ee42-a07590ba0d37"
      },
      "execution_count": null,
      "outputs": [
        {
          "output_type": "stream",
          "name": "stdout",
          "text": [
            "4\n",
            "1\n",
            "2\n",
            "3\n"
          ]
        }
      ]
    },
    {
      "cell_type": "code",
      "source": [
        "def circle(r):\n",
        "    width = r*r*3.14\n",
        "    return width\n",
        "print(circle(10))"
      ],
      "metadata": {
        "colab": {
          "base_uri": "https://localhost:8080/"
        },
        "id": "O7RW9RwxY0TF",
        "outputId": "6fbfe8cb-5d15-4afd-8dab-f9dc9908b203"
      },
      "execution_count": null,
      "outputs": [
        {
          "output_type": "stream",
          "name": "stdout",
          "text": [
            "314.0\n"
          ]
        }
      ]
    },
    {
      "cell_type": "markdown",
      "source": [
        ""
      ],
      "metadata": {
        "id": "IeiF11lja2vT"
      }
    },
    {
      "cell_type": "code",
      "source": [
        "a = 10\n",
        "def aplus():\n",
        "    global a\n",
        "    a += 10\n",
        "    return a\n",
        "    print(aplus())"
      ],
      "metadata": {
        "id": "TWHhvlDfY-3V"
      },
      "execution_count": null,
      "outputs": []
    },
    {
      "cell_type": "markdown",
      "source": [
        "#15July"
      ],
      "metadata": {
        "id": "BTJ5sCf96fJ9"
      }
    },
    {
      "cell_type": "code",
      "source": [
        "a= 4.24e2\n",
        "print(a)"
      ],
      "metadata": {
        "id": "zmpZUa5-cQSU",
        "colab": {
          "base_uri": "https://localhost:8080/"
        },
        "outputId": "3e3f1ede-4cea-43a7-b612-fb9ffbf52598"
      },
      "execution_count": 2,
      "outputs": [
        {
          "output_type": "stream",
          "name": "stdout",
          "text": [
            "424.0\n"
          ]
        }
      ]
    },
    {
      "cell_type": "code",
      "source": [
        "a= 231\n",
        "b= 230\n",
        "print(a**b)"
      ],
      "metadata": {
        "colab": {
          "base_uri": "https://localhost:8080/"
        },
        "id": "NiK3hFGo9IVT",
        "outputId": "7f7ce61f-982e-4ee4-d1a9-ee18daed1c92"
      },
      "execution_count": 6,
      "outputs": [
        {
          "output_type": "stream",
          "name": "stdout",
          "text": [
            "4273221208611331164450224428876567062409966290836664408202806572438426225742834616173704307057644700463931346062902394755736123352073948039593765285403411081160593110317959132637055437923284582919605611208691147698461574683963918174408010870079881110927028184598039042270383260214841341567843152280126947905537631528475162904314093277468059038105243127743519678603232864757857966844785577186948478166537184431501529991607546815511745341100902979711922092139923952054546696642529276790460647191263772471962057568929907650500774522149931120344401\n"
          ]
        }
      ]
    },
    {
      "cell_type": "code",
      "source": [
        "a= \"Hello world\"\n",
        "print(type(a))"
      ],
      "metadata": {
        "colab": {
          "base_uri": "https://localhost:8080/"
        },
        "id": "um_Fg4rr89vz",
        "outputId": "f8d14cbc-4365-4f23-e051-c752b2398fff"
      },
      "execution_count": 7,
      "outputs": [
        {
          "output_type": "stream",
          "name": "stdout",
          "text": [
            "<class 'str'>\n"
          ]
        }
      ]
    },
    {
      "cell_type": "code",
      "source": [
        "a= \"choi\\\"jaehun\"\n",
        "b= \" is handsome\\t\"\n",
        "print((a + b)*100)"
      ],
      "metadata": {
        "colab": {
          "base_uri": "https://localhost:8080/"
        },
        "id": "kQ7GK-zo-GOi",
        "outputId": "6bf3e28b-a580-4f9e-8bda-634d407ce5a1"
      },
      "execution_count": 23,
      "outputs": [
        {
          "output_type": "stream",
          "name": "stdout",
          "text": [
            "choi\"jaehun is handsome\tchoi\"jaehun is handsome\tchoi\"jaehun is handsome\tchoi\"jaehun is handsome\tchoi\"jaehun is handsome\tchoi\"jaehun is handsome\tchoi\"jaehun is handsome\tchoi\"jaehun is handsome\tchoi\"jaehun is handsome\tchoi\"jaehun is handsome\tchoi\"jaehun is handsome\tchoi\"jaehun is handsome\tchoi\"jaehun is handsome\tchoi\"jaehun is handsome\tchoi\"jaehun is handsome\tchoi\"jaehun is handsome\tchoi\"jaehun is handsome\tchoi\"jaehun is handsome\tchoi\"jaehun is handsome\tchoi\"jaehun is handsome\tchoi\"jaehun is handsome\tchoi\"jaehun is handsome\tchoi\"jaehun is handsome\tchoi\"jaehun is handsome\tchoi\"jaehun is handsome\tchoi\"jaehun is handsome\tchoi\"jaehun is handsome\tchoi\"jaehun is handsome\tchoi\"jaehun is handsome\tchoi\"jaehun is handsome\tchoi\"jaehun is handsome\tchoi\"jaehun is handsome\tchoi\"jaehun is handsome\tchoi\"jaehun is handsome\tchoi\"jaehun is handsome\tchoi\"jaehun is handsome\tchoi\"jaehun is handsome\tchoi\"jaehun is handsome\tchoi\"jaehun is handsome\tchoi\"jaehun is handsome\tchoi\"jaehun is handsome\tchoi\"jaehun is handsome\tchoi\"jaehun is handsome\tchoi\"jaehun is handsome\tchoi\"jaehun is handsome\tchoi\"jaehun is handsome\tchoi\"jaehun is handsome\tchoi\"jaehun is handsome\tchoi\"jaehun is handsome\tchoi\"jaehun is handsome\tchoi\"jaehun is handsome\tchoi\"jaehun is handsome\tchoi\"jaehun is handsome\tchoi\"jaehun is handsome\tchoi\"jaehun is handsome\tchoi\"jaehun is handsome\tchoi\"jaehun is handsome\tchoi\"jaehun is handsome\tchoi\"jaehun is handsome\tchoi\"jaehun is handsome\tchoi\"jaehun is handsome\tchoi\"jaehun is handsome\tchoi\"jaehun is handsome\tchoi\"jaehun is handsome\tchoi\"jaehun is handsome\tchoi\"jaehun is handsome\tchoi\"jaehun is handsome\tchoi\"jaehun is handsome\tchoi\"jaehun is handsome\tchoi\"jaehun is handsome\tchoi\"jaehun is handsome\tchoi\"jaehun is handsome\tchoi\"jaehun is handsome\tchoi\"jaehun is handsome\tchoi\"jaehun is handsome\tchoi\"jaehun is handsome\tchoi\"jaehun is handsome\tchoi\"jaehun is handsome\tchoi\"jaehun is handsome\tchoi\"jaehun is handsome\tchoi\"jaehun is handsome\tchoi\"jaehun is handsome\tchoi\"jaehun is handsome\tchoi\"jaehun is handsome\tchoi\"jaehun is handsome\tchoi\"jaehun is handsome\tchoi\"jaehun is handsome\tchoi\"jaehun is handsome\tchoi\"jaehun is handsome\tchoi\"jaehun is handsome\tchoi\"jaehun is handsome\tchoi\"jaehun is handsome\tchoi\"jaehun is handsome\tchoi\"jaehun is handsome\tchoi\"jaehun is handsome\tchoi\"jaehun is handsome\tchoi\"jaehun is handsome\tchoi\"jaehun is handsome\tchoi\"jaehun is handsome\tchoi\"jaehun is handsome\t\n"
          ]
        }
      ]
    },
    {
      "cell_type": "code",
      "source": [
        "a= \"Life is too short You need Python\"\n",
        "print(a[2])#인덱싱"
      ],
      "metadata": {
        "colab": {
          "base_uri": "https://localhost:8080/"
        },
        "id": "t2rdeiM5_ZEg",
        "outputId": "bc8f929d-e5b7-4ee8-e216-3aa0d5b47aa2"
      },
      "execution_count": 25,
      "outputs": [
        {
          "output_type": "stream",
          "name": "stdout",
          "text": [
            "f\n"
          ]
        }
      ]
    },
    {
      "cell_type": "code",
      "source": [
        "a = \"July15 Rainy days\"\n",
        "date = a[:6]#슬라이싱 [이상:미만:간격]\n",
        "weather = a[7:]\n",
        "date\n",
        "weather\n",
        "print(weather)"
      ],
      "metadata": {
        "colab": {
          "base_uri": "https://localhost:8080/"
        },
        "id": "GYli1or8AjrR",
        "outputId": "d37d8186-9588-4a5a-bd96-d546cd27cd70"
      },
      "execution_count": 37,
      "outputs": [
        {
          "output_type": "stream",
          "name": "stdout",
          "text": [
            "Rainy days\n"
          ]
        }
      ]
    },
    {
      "cell_type": "code",
      "source": [
        ""
      ],
      "metadata": {
        "id": "KPcxxZp-Bwkp"
      },
      "execution_count": null,
      "outputs": []
    },
    {
      "cell_type": "code",
      "source": [
        "a = \"July15 Rainy days\"\n",
        "print(a[7::2])"
      ],
      "metadata": {
        "colab": {
          "base_uri": "https://localhost:8080/"
        },
        "id": "CdBrcb-ZBXZ_",
        "outputId": "348b67ec-5fde-4efe-b931-f83173408e8c"
      },
      "execution_count": 41,
      "outputs": [
        {
          "output_type": "stream",
          "name": "stdout",
          "text": [
            "Riydy\n"
          ]
        }
      ]
    },
    {
      "cell_type": "code",
      "source": [
        "number = 10\n",
        "day = \"three\"\n",
        "a = \"I ate %d appples. so i was sick for %s days. \" % (number, day)\n",
        "#문자열포맷코드.%s 문자열. %c 문자1개.%d 정수. %f 부동 소수(floating-point)\n",
        "print(a)"
      ],
      "metadata": {
        "colab": {
          "base_uri": "https://localhost:8080/"
        },
        "id": "pcYsy9MQBc2g",
        "outputId": "bc826706-49aa-4d81-eca6-b704c134967e"
      },
      "execution_count": 44,
      "outputs": [
        {
          "output_type": "stream",
          "name": "stdout",
          "text": [
            "I ate 10 appples. so i was sick for three days. \n"
          ]
        }
      ]
    },
    {
      "cell_type": "code",
      "source": [
        ""
      ],
      "metadata": {
        "id": "iD6b-OUfDV7x"
      },
      "execution_count": null,
      "outputs": []
    }
  ]
}