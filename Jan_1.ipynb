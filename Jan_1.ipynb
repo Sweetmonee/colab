{
  "nbformat": 4,
  "nbformat_minor": 0,
  "metadata": {
    "colab": {
      "provenance": [],
      "authorship_tag": "ABX9TyPZ58Yra3uyLNQZmJLVAZnh",
      "include_colab_link": true
    },
    "kernelspec": {
      "name": "python3",
      "display_name": "Python 3"
    },
    "language_info": {
      "name": "python"
    }
  },
  "cells": [
    {
      "cell_type": "markdown",
      "metadata": {
        "id": "view-in-github",
        "colab_type": "text"
      },
      "source": [
        "<a href=\"https://colab.research.google.com/github/Sweetmonee/colab/blob/main/Jan_1.ipynb\" target=\"_parent\"><img src=\"https://colab.research.google.com/assets/colab-badge.svg\" alt=\"Open In Colab\"/></a>"
      ]
    },
    {
      "cell_type": "code",
      "execution_count": null,
      "metadata": {
        "id": "htCHkQkx_f-d"
      },
      "outputs": [],
      "source": [
        "# 머쓱이는 구슬을 친구들에게 나누어주려고 합니다. 구슬은 모두 다르게 생겼습니다. 머쓱이가 갖고 있는 구슬의 개수 balls와 친구들에게 나누어 줄 구슬 개수 share이 매개변수로 주어질 때, \n",
        "# balls개의 구슬 중 share개의 구슬을 고르는 가능한 모든 경우의 수를 return 하는 solution 함수를 완성해주세요.\n",
        "def solution(balls, share):\n",
        "    son = 1\n",
        "    mother1 = 1\n",
        "    mother2 = 1\n",
        "    for i in range(1,balls+1):\n",
        "        son *= i\n",
        "    for j in range(1, share + 1):\n",
        "        mother1 *= j\n",
        "    for l in range(1,balls-share+1):\n",
        "        mother2 *= l\n",
        "    answer = son / (mother1 * mother2)\n",
        "        \n",
        "    return answer"
      ]
    }
  ]
}