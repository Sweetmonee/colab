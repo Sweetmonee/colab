{
  "nbformat": 4,
  "nbformat_minor": 0,
  "metadata": {
    "colab": {
      "name": "파이썬 연습.ipynb",
      "provenance": [],
      "authorship_tag": "ABX9TyNzaW+slgt+jjsDgDxOrc9k",
      "include_colab_link": true
    },
    "kernelspec": {
      "name": "python3",
      "display_name": "Python 3"
    },
    "language_info": {
      "name": "python"
    }
  },
  "cells": [
    {
      "cell_type": "markdown",
      "metadata": {
        "id": "view-in-github",
        "colab_type": "text"
      },
      "source": [
        "<a href=\"https://colab.research.google.com/github/Sweetmonee/colab/blob/main/%ED%8C%8C%EC%9D%B4%EC%8D%AC_%EC%97%B0%EC%8A%B5.ipynb\" target=\"_parent\"><img src=\"https://colab.research.google.com/assets/colab-badge.svg\" alt=\"Open In Colab\"/></a>"
      ]
    },
    {
      "cell_type": "code",
      "execution_count": null,
      "metadata": {
        "colab": {
          "base_uri": "https://localhost:8080/"
        },
        "id": "VSJTk7Ji29cs",
        "outputId": "a3bf2318-fa6f-43de-e7ce-63ca557e7bea"
      },
      "outputs": [
        {
          "output_type": "stream",
          "name": "stdout",
          "text": [
            "8\n",
            "0101000\n",
            "0001110\n"
          ]
        }
      ],
      "source": [
        "# bit연산\n",
        "a = 40\n",
        "b = 14\n",
        "print(a&b)\n",
        "print(bin(a)[2:].zfill(7)) \n",
        "print(bin(b)[2:].zfill(7))\n",
        "# 101000\n",
        "# 001110"
      ]
    },
    {
      "cell_type": "code",
      "source": [
        "def f(x,y):#파라미터\n",
        "    z = x + y\n",
        "    return z\n",
        "print(f(3,5))#아규먼트"
      ],
      "metadata": {
        "colab": {
          "base_uri": "https://localhost:8080/"
        },
        "id": "4Bbs6zvB6sVU",
        "outputId": "184cc1b7-3ac7-481b-c944-0dd688d6691c"
      },
      "execution_count": null,
      "outputs": [
        {
          "output_type": "stream",
          "name": "stdout",
          "text": [
            "8\n"
          ]
        }
      ]
    },
    {
      "cell_type": "markdown",
      "source": [
        "# 14July\n"
      ],
      "metadata": {
        "id": "CLkYvYo7Xewo"
      }
    },
    {
      "cell_type": "code",
      "source": [
        "def ff():\n",
        "    print('1')\n",
        "    print('2')\n",
        "    print('3')\n",
        "print(4)\n",
        "ff()\n"
      ],
      "metadata": {
        "colab": {
          "base_uri": "https://localhost:8080/"
        },
        "id": "8OfWz5OcXlXv",
        "outputId": "832a8ec9-b6e7-4136-ee42-a07590ba0d37"
      },
      "execution_count": null,
      "outputs": [
        {
          "output_type": "stream",
          "name": "stdout",
          "text": [
            "4\n",
            "1\n",
            "2\n",
            "3\n"
          ]
        }
      ]
    },
    {
      "cell_type": "code",
      "source": [
        "def circle(r):\n",
        "    width = r*r*3.14\n",
        "    return width\n",
        "print(circle(10))"
      ],
      "metadata": {
        "colab": {
          "base_uri": "https://localhost:8080/"
        },
        "id": "O7RW9RwxY0TF",
        "outputId": "6fbfe8cb-5d15-4afd-8dab-f9dc9908b203"
      },
      "execution_count": null,
      "outputs": [
        {
          "output_type": "stream",
          "name": "stdout",
          "text": [
            "314.0\n"
          ]
        }
      ]
    },
    {
      "cell_type": "markdown",
      "source": [
        ""
      ],
      "metadata": {
        "id": "IeiF11lja2vT"
      }
    },
    {
      "cell_type": "code",
      "source": [
        "a = 10\n",
        "def aplus():\n",
        "    global a\n",
        "    a += 10\n",
        "    return a\n",
        "    print(aplus())"
      ],
      "metadata": {
        "id": "TWHhvlDfY-3V"
      },
      "execution_count": null,
      "outputs": []
    },
    {
      "cell_type": "markdown",
      "source": [
        "#15July"
      ],
      "metadata": {
        "id": "BTJ5sCf96fJ9"
      }
    },
    {
      "cell_type": "code",
      "source": [
        "a= 4.24e2\n",
        "print(a)"
      ],
      "metadata": {
        "id": "zmpZUa5-cQSU",
        "colab": {
          "base_uri": "https://localhost:8080/"
        },
        "outputId": "3e3f1ede-4cea-43a7-b612-fb9ffbf52598"
      },
      "execution_count": null,
      "outputs": [
        {
          "output_type": "stream",
          "name": "stdout",
          "text": [
            "424.0\n"
          ]
        }
      ]
    },
    {
      "cell_type": "code",
      "source": [
        "a= 231\n",
        "b= 230\n",
        "print(a**b)"
      ],
      "metadata": {
        "colab": {
          "base_uri": "https://localhost:8080/"
        },
        "id": "NiK3hFGo9IVT",
        "outputId": "7f7ce61f-982e-4ee4-d1a9-ee18daed1c92"
      },
      "execution_count": null,
      "outputs": [
        {
          "output_type": "stream",
          "name": "stdout",
          "text": [
            "4273221208611331164450224428876567062409966290836664408202806572438426225742834616173704307057644700463931346062902394755736123352073948039593765285403411081160593110317959132637055437923284582919605611208691147698461574683963918174408010870079881110927028184598039042270383260214841341567843152280126947905537631528475162904314093277468059038105243127743519678603232864757857966844785577186948478166537184431501529991607546815511745341100902979711922092139923952054546696642529276790460647191263772471962057568929907650500774522149931120344401\n"
          ]
        }
      ]
    },
    {
      "cell_type": "code",
      "source": [
        "a= \"Hello world\"\n",
        "print(type(a))"
      ],
      "metadata": {
        "colab": {
          "base_uri": "https://localhost:8080/"
        },
        "id": "um_Fg4rr89vz",
        "outputId": "f8d14cbc-4365-4f23-e051-c752b2398fff"
      },
      "execution_count": null,
      "outputs": [
        {
          "output_type": "stream",
          "name": "stdout",
          "text": [
            "<class 'str'>\n"
          ]
        }
      ]
    },
    {
      "cell_type": "code",
      "source": [
        "a= \"choi\\\"jaehun\"\n",
        "b= \" is handsome\\t\"\n",
        "print((a + b)*100)"
      ],
      "metadata": {
        "colab": {
          "base_uri": "https://localhost:8080/"
        },
        "id": "kQ7GK-zo-GOi",
        "outputId": "6bf3e28b-a580-4f9e-8bda-634d407ce5a1"
      },
      "execution_count": null,
      "outputs": [
        {
          "output_type": "stream",
          "name": "stdout",
          "text": [
            "choi\"jaehun is handsome\tchoi\"jaehun is handsome\tchoi\"jaehun is handsome\tchoi\"jaehun is handsome\tchoi\"jaehun is handsome\tchoi\"jaehun is handsome\tchoi\"jaehun is handsome\tchoi\"jaehun is handsome\tchoi\"jaehun is handsome\tchoi\"jaehun is handsome\tchoi\"jaehun is handsome\tchoi\"jaehun is handsome\tchoi\"jaehun is handsome\tchoi\"jaehun is handsome\tchoi\"jaehun is handsome\tchoi\"jaehun is handsome\tchoi\"jaehun is handsome\tchoi\"jaehun is handsome\tchoi\"jaehun is handsome\tchoi\"jaehun is handsome\tchoi\"jaehun is handsome\tchoi\"jaehun is handsome\tchoi\"jaehun is handsome\tchoi\"jaehun is handsome\tchoi\"jaehun is handsome\tchoi\"jaehun is handsome\tchoi\"jaehun is handsome\tchoi\"jaehun is handsome\tchoi\"jaehun is handsome\tchoi\"jaehun is handsome\tchoi\"jaehun is handsome\tchoi\"jaehun is handsome\tchoi\"jaehun is handsome\tchoi\"jaehun is handsome\tchoi\"jaehun is handsome\tchoi\"jaehun is handsome\tchoi\"jaehun is handsome\tchoi\"jaehun is handsome\tchoi\"jaehun is handsome\tchoi\"jaehun is handsome\tchoi\"jaehun is handsome\tchoi\"jaehun is handsome\tchoi\"jaehun is handsome\tchoi\"jaehun is handsome\tchoi\"jaehun is handsome\tchoi\"jaehun is handsome\tchoi\"jaehun is handsome\tchoi\"jaehun is handsome\tchoi\"jaehun is handsome\tchoi\"jaehun is handsome\tchoi\"jaehun is handsome\tchoi\"jaehun is handsome\tchoi\"jaehun is handsome\tchoi\"jaehun is handsome\tchoi\"jaehun is handsome\tchoi\"jaehun is handsome\tchoi\"jaehun is handsome\tchoi\"jaehun is handsome\tchoi\"jaehun is handsome\tchoi\"jaehun is handsome\tchoi\"jaehun is handsome\tchoi\"jaehun is handsome\tchoi\"jaehun is handsome\tchoi\"jaehun is handsome\tchoi\"jaehun is handsome\tchoi\"jaehun is handsome\tchoi\"jaehun is handsome\tchoi\"jaehun is handsome\tchoi\"jaehun is handsome\tchoi\"jaehun is handsome\tchoi\"jaehun is handsome\tchoi\"jaehun is handsome\tchoi\"jaehun is handsome\tchoi\"jaehun is handsome\tchoi\"jaehun is handsome\tchoi\"jaehun is handsome\tchoi\"jaehun is handsome\tchoi\"jaehun is handsome\tchoi\"jaehun is handsome\tchoi\"jaehun is handsome\tchoi\"jaehun is handsome\tchoi\"jaehun is handsome\tchoi\"jaehun is handsome\tchoi\"jaehun is handsome\tchoi\"jaehun is handsome\tchoi\"jaehun is handsome\tchoi\"jaehun is handsome\tchoi\"jaehun is handsome\tchoi\"jaehun is handsome\tchoi\"jaehun is handsome\tchoi\"jaehun is handsome\tchoi\"jaehun is handsome\tchoi\"jaehun is handsome\tchoi\"jaehun is handsome\tchoi\"jaehun is handsome\tchoi\"jaehun is handsome\tchoi\"jaehun is handsome\tchoi\"jaehun is handsome\tchoi\"jaehun is handsome\tchoi\"jaehun is handsome\t\n"
          ]
        }
      ]
    },
    {
      "cell_type": "code",
      "source": [
        "a= \"Life is too short You need Python\"\n",
        "print(a[2])#인덱싱"
      ],
      "metadata": {
        "colab": {
          "base_uri": "https://localhost:8080/"
        },
        "id": "t2rdeiM5_ZEg",
        "outputId": "bc8f929d-e5b7-4ee8-e216-3aa0d5b47aa2"
      },
      "execution_count": null,
      "outputs": [
        {
          "output_type": "stream",
          "name": "stdout",
          "text": [
            "f\n"
          ]
        }
      ]
    },
    {
      "cell_type": "code",
      "source": [
        "a = \"July15 Rainy days\"\n",
        "date = a[:6]#슬라이싱 [이상:미만:간격]\n",
        "weather = a[7:]\n",
        "date\n",
        "weather\n",
        "print(weather)"
      ],
      "metadata": {
        "colab": {
          "base_uri": "https://localhost:8080/"
        },
        "id": "GYli1or8AjrR",
        "outputId": "d37d8186-9588-4a5a-bd96-d546cd27cd70"
      },
      "execution_count": null,
      "outputs": [
        {
          "output_type": "stream",
          "name": "stdout",
          "text": [
            "Rainy days\n"
          ]
        }
      ]
    },
    {
      "cell_type": "code",
      "source": [
        ""
      ],
      "metadata": {
        "id": "KPcxxZp-Bwkp"
      },
      "execution_count": null,
      "outputs": []
    },
    {
      "cell_type": "code",
      "source": [
        "a = \"July15 Rainy days\"\n",
        "print(a[7::2])"
      ],
      "metadata": {
        "colab": {
          "base_uri": "https://localhost:8080/"
        },
        "id": "CdBrcb-ZBXZ_",
        "outputId": "348b67ec-5fde-4efe-b931-f83173408e8c"
      },
      "execution_count": null,
      "outputs": [
        {
          "output_type": "stream",
          "name": "stdout",
          "text": [
            "Riydy\n"
          ]
        }
      ]
    },
    {
      "cell_type": "code",
      "source": [
        "number = 10\n",
        "day = \"three\"\n",
        "a = \"I ate %d appples. so i was sick for %s days. \" % (number, day)\n",
        "#문자열포맷코드.%s 문자열. %c 문자1개.%d 정수. %f 부동 소수(floating-point)\n",
        "print(a)"
      ],
      "metadata": {
        "colab": {
          "base_uri": "https://localhost:8080/"
        },
        "id": "pcYsy9MQBc2g",
        "outputId": "bc826706-49aa-4d81-eca6-b704c134967e"
      },
      "execution_count": null,
      "outputs": [
        {
          "output_type": "stream",
          "name": "stdout",
          "text": [
            "I ate 10 appples. so i was sick for three days. \n"
          ]
        }
      ]
    },
    {
      "cell_type": "markdown",
      "source": [
        "# July 18"
      ],
      "metadata": {
        "id": "Rpi89ax_-YDS"
      }
    },
    {
      "cell_type": "code",
      "source": [
        "a = \"aasdf {age} asdfasd fasdf {name} asdfasdf\".format(name=\"최재훈\", age = 26)\n",
        "\n",
        "print(a)"
      ],
      "metadata": {
        "id": "iD6b-OUfDV7x",
        "colab": {
          "base_uri": "https://localhost:8080/"
        },
        "outputId": "eaf7a665-361a-411e-c0ca-c90f10f50d41"
      },
      "execution_count": null,
      "outputs": [
        {
          "output_type": "stream",
          "name": "stdout",
          "text": [
            "aasdf 26 asdfasd fasdf 최재훈 asdfasdf\n"
          ]
        }
      ]
    },
    {
      "cell_type": "code",
      "source": [
        "name = \"int\"\n",
        "a = f\"나의 이름은 {name}입니다\"\n",
        "print(a)"
      ],
      "metadata": {
        "colab": {
          "base_uri": "https://localhost:8080/"
        },
        "id": "IlrShpP2AVrF",
        "outputId": "db628a7c-d835-4db1-f437-f9efa60d946a"
      },
      "execution_count": null,
      "outputs": [
        {
          "output_type": "stream",
          "name": "stdout",
          "text": [
            "나의 이름은 int입니다\n"
          ]
        }
      ]
    },
    {
      "cell_type": "code",
      "source": [
        "a = \"%10s\" %  \"hi\"\n",
        "\n",
        "\n",
        "print(a)"
      ],
      "metadata": {
        "colab": {
          "base_uri": "https://localhost:8080/"
        },
        "id": "fGALtNJnBXky",
        "outputId": "7379bfa9-fa0e-41d9-f987-6b4c2756a99c"
      },
      "execution_count": null,
      "outputs": [
        {
          "output_type": "stream",
          "name": "stdout",
          "text": [
            "        hi\n"
          ]
        }
      ]
    },
    {
      "cell_type": "code",
      "source": [
        "a = \"%0.2f\" % 3.141592\n",
        "\n",
        "print(a)"
      ],
      "metadata": {
        "colab": {
          "base_uri": "https://localhost:8080/"
        },
        "id": "1GYnQQdTCovf",
        "outputId": "41f23e88-fd4e-4477-faf0-743ad8c24b05"
      },
      "execution_count": null,
      "outputs": [
        {
          "output_type": "stream",
          "name": "stdout",
          "text": [
            "3.14\n"
          ]
        }
      ]
    },
    {
      "cell_type": "code",
      "source": [
        "a = \"hobbyy\"\n",
        "\n",
        "print(a.find('y'))"
      ],
      "metadata": {
        "colab": {
          "base_uri": "https://localhost:8080/"
        },
        "id": "qjfJ0sQVC2ba",
        "outputId": "a8f9a4b2-9b6b-40b2-cde0-5dce7f638ffa"
      },
      "execution_count": null,
      "outputs": [
        {
          "output_type": "stream",
          "name": "stdout",
          "text": [
            "4\n"
          ]
        }
      ]
    },
    {
      "cell_type": "code",
      "source": [
        "a = \"Life is too short\"\n",
        "print(a.replace(\"Life\", \"your leg\"))"
      ],
      "metadata": {
        "colab": {
          "base_uri": "https://localhost:8080/"
        },
        "id": "VxzXx9NuEtrP",
        "outputId": "88d7decd-a04a-4e08-9eb0-717d8fb2aab1"
      },
      "execution_count": null,
      "outputs": [
        {
          "output_type": "stream",
          "name": "stdout",
          "text": [
            "your leg is too short\n"
          ]
        }
      ]
    },
    {
      "cell_type": "code",
      "source": [
        "a = \",\".join([\"a\",\"b\",\"c\",\"d\"])\n",
        "\n",
        "\n",
        "print(a)"
      ],
      "metadata": {
        "colab": {
          "base_uri": "https://localhost:8080/"
        },
        "id": "eFS5rxnJCvgC",
        "outputId": "c7339e0c-c410-4fc1-9188-f590ca33ce3f"
      },
      "execution_count": null,
      "outputs": [
        {
          "output_type": "stream",
          "name": "stdout",
          "text": [
            "a,b,c,d\n"
          ]
        }
      ]
    },
    {
      "cell_type": "markdown",
      "source": [
        "#July19"
      ],
      "metadata": {
        "id": "UFaJN6No3gpG"
      }
    },
    {
      "cell_type": "code",
      "source": [
        "a = \"Life:is:beautiful\"\n",
        "print(a.split(\":\"))"
      ],
      "metadata": {
        "id": "e0XQWJkqPFpo",
        "colab": {
          "base_uri": "https://localhost:8080/"
        },
        "outputId": "b4d8e589-aba1-4292-eb16-66fef3c68d0e"
      },
      "execution_count": null,
      "outputs": [
        {
          "output_type": "stream",
          "name": "stdout",
          "text": [
            "['Life', 'is', 'beautiful']\n"
          ]
        }
      ]
    },
    {
      "cell_type": "code",
      "source": [
        "a = [1,2,\"int\",\"김정현\",[\"김재원\",\"Manse samdori\"]]\n",
        "print(a[4][1])"
      ],
      "metadata": {
        "colab": {
          "base_uri": "https://localhost:8080/"
        },
        "id": "RfEpE1hR4DNe",
        "outputId": "cbe8d69c-8db1-40f1-8548-55f3874979aa"
      },
      "execution_count": null,
      "outputs": [
        {
          "output_type": "stream",
          "name": "stdout",
          "text": [
            "Manse samdori\n"
          ]
        }
      ]
    },
    {
      "cell_type": "code",
      "source": [
        "a = [1,2,3]\n",
        "b= [4,5,6]\n",
        "print(a+b)"
      ],
      "metadata": {
        "colab": {
          "base_uri": "https://localhost:8080/"
        },
        "id": "oEDli5-n7PQL",
        "outputId": "6c4dd7a5-b90f-4f8d-ee8f-285140f18e99"
      },
      "execution_count": null,
      "outputs": [
        {
          "output_type": "stream",
          "name": "stdout",
          "text": [
            "[1, 2, 3, 4, 5, 6]\n"
          ]
        }
      ]
    },
    {
      "cell_type": "code",
      "source": [
        "a = [\"박주하\", \"잠수\", \"문재성\"]\n",
        "a[0:2] = []\n",
        "\n",
        "print(a)"
      ],
      "metadata": {
        "id": "epA0iDweOSAX",
        "colab": {
          "base_uri": "https://localhost:8080/"
        },
        "outputId": "578b2f55-8b07-4e38-cb19-7b53f1b9dd7d"
      },
      "execution_count": null,
      "outputs": [
        {
          "output_type": "stream",
          "name": "stdout",
          "text": [
            "['문재성']\n"
          ]
        }
      ]
    },
    {
      "cell_type": "code",
      "source": [
        "a = [\"박주하\", \"잠수\", \"문재성\"]\n",
        "del a[0]\n",
        "\n",
        "print(a)"
      ],
      "metadata": {
        "colab": {
          "base_uri": "https://localhost:8080/"
        },
        "id": "tKyXHzQ58ZsL",
        "outputId": "263bb9b5-7352-40c7-e7e8-117de4959e2e"
      },
      "execution_count": null,
      "outputs": [
        {
          "output_type": "stream",
          "name": "stdout",
          "text": [
            "['잠수', '문재성']\n"
          ]
        }
      ]
    },
    {
      "cell_type": "code",
      "source": [
        "a = [\"박주하\", \"잠수\", \"문재성\"]\n",
        "a.append(\"시우버\")\n",
        "\n",
        "print(a)"
      ],
      "metadata": {
        "colab": {
          "base_uri": "https://localhost:8080/"
        },
        "id": "g4-81OoI8rO6",
        "outputId": "d3e64a36-e5b6-47f9-da9d-5b9fc075725a"
      },
      "execution_count": null,
      "outputs": [
        {
          "output_type": "stream",
          "name": "stdout",
          "text": [
            "['박주하', '잠수', '문재성', '시우버']\n"
          ]
        }
      ]
    },
    {
      "cell_type": "code",
      "source": [
        "a = [1,5,34,54,747,1,1754,5647,564,253,421,42,3436]\n",
        "a.sort()\n",
        "b = [\"가\",\"댜\",\"라\",\"미\",\"해\",\"유\"]\n",
        "b.sort()\n",
        "print(a*3+b)\n"
      ],
      "metadata": {
        "colab": {
          "base_uri": "https://localhost:8080/"
        },
        "id": "1GoFsr-V85OL",
        "outputId": "03e5899c-372b-4057-b740-5ae6a078c504"
      },
      "execution_count": null,
      "outputs": [
        {
          "output_type": "stream",
          "name": "stdout",
          "text": [
            "[1, 1, 5, 34, 42, 54, 253, 421, 564, 747, 1754, 3436, 5647, 1, 1, 5, 34, 42, 54, 253, 421, 564, 747, 1754, 3436, 5647, 1, 1, 5, 34, 42, 54, 253, 421, 564, 747, 1754, 3436, 5647, '가', '댜', '라', '미', '유', '해']\n"
          ]
        }
      ]
    },
    {
      "cell_type": "code",
      "source": [
        "a = [1,5,3]\n",
        "\n",
        "print(a.index(5))\n"
      ],
      "metadata": {
        "colab": {
          "base_uri": "https://localhost:8080/"
        },
        "id": "a6dMDp-O91rD",
        "outputId": "9362ddc4-9c87-4d92-8052-4f0c4bf2e682"
      },
      "execution_count": null,
      "outputs": [
        {
          "output_type": "stream",
          "name": "stdout",
          "text": [
            "1\n"
          ]
        }
      ]
    },
    {
      "cell_type": "code",
      "source": [
        "a = [1,2,3]\n",
        "a.insert(0,4) #n번째에,~을 삽입하라\n",
        "[4,1,2,3]"
      ],
      "metadata": {
        "id": "gIHNzDloCoYX"
      },
      "execution_count": null,
      "outputs": []
    },
    {
      "cell_type": "code",
      "source": [
        "a = [1,2,3,1,2,3,1,1,2,3,5,6,3,4,5,6,3,2,1]\n",
        "\n",
        "for A in a:\n",
        "    if A == 3:\n",
        "      a.remove(A)\n",
        "      print(a)\n"
      ],
      "metadata": {
        "colab": {
          "base_uri": "https://localhost:8080/"
        },
        "id": "6C6Kzayg9jWb",
        "outputId": "c74f5427-82f0-4e40-9ddd-41948f4fae07"
      },
      "execution_count": null,
      "outputs": [
        {
          "output_type": "stream",
          "name": "stdout",
          "text": [
            "[1, 2, 1, 2, 3, 1, 1, 2, 3, 5, 6, 3, 4, 5, 6, 3, 2, 1]\n",
            "[1, 2, 1, 2, 1, 1, 2, 3, 5, 6, 3, 4, 5, 6, 3, 2, 1]\n",
            "[1, 2, 1, 2, 1, 1, 2, 5, 6, 3, 4, 5, 6, 3, 2, 1]\n",
            "[1, 2, 1, 2, 1, 1, 2, 5, 6, 4, 5, 6, 3, 2, 1]\n",
            "[1, 2, 1, 2, 1, 1, 2, 5, 6, 4, 5, 6, 2, 1]\n"
          ]
        }
      ]
    },
    {
      "cell_type": "code",
      "source": [
        "a = [1,2,3]\n",
        "a.pop()\n",
        "print(a)"
      ],
      "metadata": {
        "colab": {
          "base_uri": "https://localhost:8080/"
        },
        "id": "pjCk_DjSMF7B",
        "outputId": "9e30bf9b-355c-4b70-b164-aaf15f4de1f7"
      },
      "execution_count": null,
      "outputs": [
        {
          "output_type": "stream",
          "name": "stdout",
          "text": [
            "[1, 2]\n"
          ]
        }
      ]
    },
    {
      "cell_type": "code",
      "source": [
        "a= [1,4,5,6,1,5]\n",
        "a.extend([2,4])\n",
        "print(a)"
      ],
      "metadata": {
        "colab": {
          "base_uri": "https://localhost:8080/"
        },
        "id": "HjhSMn3cK-6J",
        "outputId": "f78e8977-5f9b-43a4-a9fc-c5b686a003f7"
      },
      "execution_count": null,
      "outputs": [
        {
          "output_type": "stream",
          "name": "stdout",
          "text": [
            "[1, 4, 5, 6, 1, 5, 2, 4]\n"
          ]
        }
      ]
    },
    {
      "cell_type": "code",
      "source": [
        "t1 = (1,2,'a', 'b')\n",
        "print(t1[0] + 1)\n",
        "a= (1,2)\n",
        "a= a * 3\n",
        "print(a)"
      ],
      "metadata": {
        "colab": {
          "base_uri": "https://localhost:8080/"
        },
        "id": "oRsMdq9sTNpo",
        "outputId": "6a60d0f4-096f-428a-be5a-57a945796f9e"
      },
      "execution_count": null,
      "outputs": [
        {
          "output_type": "stream",
          "name": "stdout",
          "text": [
            "2\n",
            "(1, 2, 1, 2, 1, 2)\n"
          ]
        }
      ]
    },
    {
      "cell_type": "code",
      "source": [
        "dic = {'name': 'Eric', 'age': 15}\n",
        "\n",
        "print(dic['name'])"
      ],
      "metadata": {
        "colab": {
          "base_uri": "https://localhost:8080/"
        },
        "id": "UkTtgUHOW5Hn",
        "outputId": "b88ec1ce-f845-42c5-fd06-3e62e0ecc957"
      },
      "execution_count": null,
      "outputs": [
        {
          "output_type": "stream",
          "name": "stdout",
          "text": [
            "Eric\n"
          ]
        }
      ]
    },
    {
      "cell_type": "code",
      "source": [
        "a = {1: 'a'} # key: value. key 값은 무조건 달라야함, 발류값은 같아도 되는데, \n",
        "#중복되면 마지막 키와 발류만남음.\n",
        "a['name'] = \"익명\"\n",
        "\n",
        "print(a)"
      ],
      "metadata": {
        "id": "m_5Y5_jxYAWW",
        "colab": {
          "base_uri": "https://localhost:8080/"
        },
        "outputId": "6de16058-37d0-4669-e956-8fb13457ee42"
      },
      "execution_count": null,
      "outputs": [
        {
          "output_type": "stream",
          "name": "stdout",
          "text": [
            "{1: 'a', 'name': '익명'}\n"
          ]
        }
      ]
    },
    {
      "cell_type": "code",
      "source": [
        "a = {1: '파랑구름', 2: '이현준',3: '민MIN준JUN'}\n",
        "\n",
        "print(a.keys())"
      ],
      "metadata": {
        "colab": {
          "base_uri": "https://localhost:8080/"
        },
        "id": "z8Vq2_qTj5s1",
        "outputId": "3641ac7f-14dc-45b6-914a-8e1ef355e6de"
      },
      "execution_count": null,
      "outputs": [
        {
          "output_type": "stream",
          "name": "stdout",
          "text": [
            "dict_keys([1, 2, 3])\n"
          ]
        }
      ]
    },
    {
      "cell_type": "code",
      "source": [
        "a = {1: '파랑구름', 2: '이현준',3: '민MIN준JUN'}\n",
        "print(a.values())"
      ],
      "metadata": {
        "colab": {
          "base_uri": "https://localhost:8080/"
        },
        "id": "DmJhAipmlQh2",
        "outputId": "c34ddef7-d0b2-4020-8fd2-e3d3580ab244"
      },
      "execution_count": null,
      "outputs": [
        {
          "output_type": "stream",
          "name": "stdout",
          "text": [
            "dict_values(['파랑구름', '이현준', '민MIN준JUN'])\n"
          ]
        }
      ]
    },
    {
      "cell_type": "code",
      "source": [
        "a = {1: '파랑구름', 2: '이현준',3: '민MIN준JUN'}\n",
        "print(a.items())"
      ],
      "metadata": {
        "colab": {
          "base_uri": "https://localhost:8080/"
        },
        "id": "rezYhAHtlWV9",
        "outputId": "574cd552-492e-45d1-fd93-0270f07b75d2"
      },
      "execution_count": null,
      "outputs": [
        {
          "output_type": "stream",
          "name": "stdout",
          "text": [
            "dict_items([(1, '파랑구름'), (2, '이현준'), (3, '민MIN준JUN')])\n"
          ]
        }
      ]
    },
    {
      "cell_type": "code",
      "source": [
        "a = {1: '파랑구름', 2: '이현준',3: '민MIN준JUN'}\n",
        "print(a.get(3))"
      ],
      "metadata": {
        "id": "v48LDevSDmT8",
        "colab": {
          "base_uri": "https://localhost:8080/"
        },
        "outputId": "27859261-39e9-4702-ca44-6f91d988af34"
      },
      "execution_count": null,
      "outputs": [
        {
          "output_type": "stream",
          "name": "stdout",
          "text": [
            "민MIN준JUN\n"
          ]
        }
      ]
    },
    {
      "cell_type": "code",
      "source": [
        "a = {1: '파랑구름', 2: '이현준',3: '민MIN준JUN'}\n",
        "print(a.get(4, ' 없음')) #4라는 key가 없으니까. 없음이라는 값이 리턴해서 들어가는 것임."
      ],
      "metadata": {
        "colab": {
          "base_uri": "https://localhost:8080/"
        },
        "id": "utj4TKcrmUws",
        "outputId": "6088c637-c8a3-475e-f097-49e7db2e20b5"
      },
      "execution_count": null,
      "outputs": [
        {
          "output_type": "stream",
          "name": "stdout",
          "text": [
            " 없음\n"
          ]
        }
      ]
    },
    {
      "cell_type": "code",
      "source": [
        "a = {1: '파랑구름', 2: '이현준',3: '민MIN준JUN'}\n",
        "\n",
        "print(4 in a)"
      ],
      "metadata": {
        "colab": {
          "base_uri": "https://localhost:8080/"
        },
        "id": "_OoS9AhmmiJN",
        "outputId": "8977cd6e-e89c-4a53-ebfa-c8674bd9940d"
      },
      "execution_count": null,
      "outputs": [
        {
          "output_type": "stream",
          "name": "stdout",
          "text": [
            "False\n"
          ]
        }
      ]
    },
    {
      "cell_type": "code",
      "source": [
        "a = {1: '파랑구름', 2: '이현준',3: '민MIN준JUN'}\n",
        "\n",
        "print(1 in a,2 in a)"
      ],
      "metadata": {
        "colab": {
          "base_uri": "https://localhost:8080/"
        },
        "id": "-Ra3zqVonBOl",
        "outputId": "9f4adb98-e62b-4437-b37e-a669f476b9a4"
      },
      "execution_count": null,
      "outputs": [
        {
          "output_type": "stream",
          "name": "stdout",
          "text": [
            "True True\n"
          ]
        }
      ]
    },
    {
      "cell_type": "code",
      "source": [
        "# 집합\n",
        "# s1 = set([1,2,3])#1\n",
        "s1 = {1,2,3}#2\n",
        "print(type(s1))"
      ],
      "metadata": {
        "colab": {
          "base_uri": "https://localhost:8080/"
        },
        "id": "zSqOfLZEnMR0",
        "outputId": "6d0327d1-966d-45fb-b60a-4c6826c92e3f"
      },
      "execution_count": null,
      "outputs": [
        {
          "output_type": "stream",
          "name": "stdout",
          "text": [
            "<class 'set'>\n"
          ]
        }
      ]
    },
    {
      "cell_type": "code",
      "source": [
        "s1 = set(\"Hello\")\n",
        "print(s1)#순서가 없고 중복이 허용되지 않는다."
      ],
      "metadata": {
        "colab": {
          "base_uri": "https://localhost:8080/"
        },
        "id": "8OCBRO46n_fs",
        "outputId": "2887d698-785a-4abd-a175-290fb0897dec"
      },
      "execution_count": null,
      "outputs": [
        {
          "output_type": "stream",
          "name": "stdout",
          "text": [
            "{'l', 'H', 'e', 'o'}\n"
          ]
        }
      ]
    },
    {
      "cell_type": "code",
      "source": [
        "s1 = set([1,2,3,4,5,6])\n",
        "s2 = set([4,5,6,7,8,9])\n",
        "s1 & s2"
      ],
      "metadata": {
        "colab": {
          "base_uri": "https://localhost:8080/"
        },
        "id": "Ruz4HFcOobMc",
        "outputId": "b0793a25-40e5-4c7a-af2c-652100c842ee"
      },
      "execution_count": null,
      "outputs": [
        {
          "output_type": "execute_result",
          "data": {
            "text/plain": [
              "{4, 5, 6}"
            ]
          },
          "metadata": {},
          "execution_count": 16
        }
      ]
    },
    {
      "cell_type": "code",
      "source": [
        "s1 = set([1,2,3,4,5,6])\n",
        "s2 = set([4,5,6,7,8,9])\n",
        "s1.intersection(s2) # intersection = 교집합"
      ],
      "metadata": {
        "colab": {
          "base_uri": "https://localhost:8080/"
        },
        "id": "_CV2PvNIo7gk",
        "outputId": "40ac29c9-d804-4842-b220-0e0e7455f032"
      },
      "execution_count": null,
      "outputs": [
        {
          "output_type": "execute_result",
          "data": {
            "text/plain": [
              "{4, 5, 6}"
            ]
          },
          "metadata": {},
          "execution_count": 17
        }
      ]
    },
    {
      "cell_type": "code",
      "source": [
        "s1 = set([1,2,3,4,5,6])\n",
        "s2 = set([4,5,6,7,8,9])\n",
        "s1 | s2"
      ],
      "metadata": {
        "colab": {
          "base_uri": "https://localhost:8080/"
        },
        "id": "RixNq38apKGM",
        "outputId": "e0b8487b-1bcd-4cc5-dec1-57f5c99bdb91"
      },
      "execution_count": null,
      "outputs": [
        {
          "output_type": "execute_result",
          "data": {
            "text/plain": [
              "{1, 2, 3, 4, 5, 6, 7, 8, 9}"
            ]
          },
          "metadata": {},
          "execution_count": 18
        }
      ]
    },
    {
      "cell_type": "code",
      "source": [
        "s1 = set([1,2,3,4,5,6])\n",
        "s2 = set([4,5,6,7,8,9])\n",
        "s1.union(s2)"
      ],
      "metadata": {
        "colab": {
          "base_uri": "https://localhost:8080/"
        },
        "id": "xnFS8Icvpwv9",
        "outputId": "df4ef17d-119f-4586-f6c6-f9298565ff28"
      },
      "execution_count": null,
      "outputs": [
        {
          "output_type": "execute_result",
          "data": {
            "text/plain": [
              "{1, 2, 3, 4, 5, 6, 7, 8, 9}"
            ]
          },
          "metadata": {},
          "execution_count": 19
        }
      ]
    },
    {
      "cell_type": "code",
      "source": [
        "s1 = set([1,2,3,4,5,6])\n",
        "s2 = set([4,5,6,7,8,9])\n",
        "s2.difference(s1)"
      ],
      "metadata": {
        "colab": {
          "base_uri": "https://localhost:8080/"
        },
        "id": "a8SJBq_yp3ys",
        "outputId": "43bef5ed-7273-4df8-810b-23cf60fe5238"
      },
      "execution_count": null,
      "outputs": [
        {
          "output_type": "execute_result",
          "data": {
            "text/plain": [
              "{7, 8, 9}"
            ]
          },
          "metadata": {},
          "execution_count": 20
        }
      ]
    },
    {
      "cell_type": "markdown",
      "source": [
        "#July 20"
      ],
      "metadata": {
        "id": "F4-K2Th59rRE"
      }
    },
    {
      "cell_type": "code",
      "source": [
        "s1 = set([1,2,3,4,5,6])\n",
        "s2 = set([4,5,6,7,8,9])\n",
        "s1-s2"
      ],
      "metadata": {
        "id": "IE1Kq2GlqTc8",
        "colab": {
          "base_uri": "https://localhost:8080/"
        },
        "outputId": "0813411f-65ff-4237-90f4-1ec3bdd412cd"
      },
      "execution_count": null,
      "outputs": [
        {
          "output_type": "execute_result",
          "data": {
            "text/plain": [
              "{1, 2, 3}"
            ]
          },
          "metadata": {},
          "execution_count": 1
        }
      ]
    },
    {
      "cell_type": "code",
      "source": [
        "s1 = set([1,2,3,4,5,6])\n",
        "s1.add(1.5) #알아서 정렬됨\n",
        "s1"
      ],
      "metadata": {
        "colab": {
          "base_uri": "https://localhost:8080/"
        },
        "id": "ASmeXt97-w5-",
        "outputId": "1356b27c-e665-405a-c7fa-86f0db3efa82"
      },
      "execution_count": null,
      "outputs": [
        {
          "output_type": "execute_result",
          "data": {
            "text/plain": [
              "{1, 1.5, 2, 3, 4, 5, 6}"
            ]
          },
          "metadata": {},
          "execution_count": 3
        }
      ]
    },
    {
      "cell_type": "code",
      "source": [
        "s1 = set([1,2,3,4,5,6])\n",
        "s1.remove(1)\n",
        "print(s1)"
      ],
      "metadata": {
        "colab": {
          "base_uri": "https://localhost:8080/"
        },
        "id": "G5Pa-Dk9_O-u",
        "outputId": "d9888295-2e15-48e1-c9eb-648025fb3d2c"
      },
      "execution_count": null,
      "outputs": [
        {
          "output_type": "stream",
          "name": "stdout",
          "text": [
            "{2, 3, 4, 5, 6}\n"
          ]
        }
      ]
    },
    {
      "cell_type": "code",
      "source": [
        "# \"python\" 내용이 들어있는 문자열 자료형은 참\n",
        "# \"\" 빈 문자열 자료형은 거짓\n",
        "# [1,2,3] 리스트에 숫자가 들어가 있으면 참\n",
        "# []리스트가 비어 있으면 거짓\n",
        "# 1은 참 0은 거짓\n",
        "# none도 거짓"
      ],
      "metadata": {
        "id": "AQ9M47uG_rY-"
      },
      "execution_count": null,
      "outputs": []
    },
    {
      "cell_type": "code",
      "source": [
        "a = [1,2,3,4]\n",
        "while a:\n",
        "    a.pop()\n",
        "    print(a)"
      ],
      "metadata": {
        "colab": {
          "base_uri": "https://localhost:8080/"
        },
        "id": "tSYSpENa_MdV",
        "outputId": "6aa96f59-cb4f-4711-8b15-c956df3c7051"
      },
      "execution_count": null,
      "outputs": [
        {
          "output_type": "stream",
          "name": "stdout",
          "text": [
            "[1, 2, 3]\n",
            "[1, 2]\n",
            "[1]\n",
            "[]\n"
          ]
        }
      ]
    },
    {
      "cell_type": "code",
      "source": [
        "a = [1,2,3]\n",
        "b = a #a라는 주소가 들어간것\n",
        "a[0] = 23\n",
        "print(b)\n"
      ],
      "metadata": {
        "colab": {
          "base_uri": "https://localhost:8080/"
        },
        "id": "k_jMa9X0M0o3",
        "outputId": "d1e771a0-b4c3-42f2-c71d-1a5b4f5d51eb"
      },
      "execution_count": null,
      "outputs": [
        {
          "output_type": "stream",
          "name": "stdout",
          "text": [
            "[23, 2, 3]\n"
          ]
        }
      ]
    },
    {
      "cell_type": "code",
      "source": [
        "a = [1,2,3]\n",
        "b= a[:]# a를 slicing해서 넣는 것 이므로 새로운게 따져서 들어가는것.\n",
        "a[1]= 4\n",
        "print(a)\n",
        "print(b)\n",
        "print(id(a))\n",
        "print(id(b))\n"
      ],
      "metadata": {
        "id": "TXg8-rrFSp-Q",
        "colab": {
          "base_uri": "https://localhost:8080/"
        },
        "outputId": "a2208427-27b1-49bb-d3ad-f4d02cf221e9"
      },
      "execution_count": null,
      "outputs": [
        {
          "output_type": "stream",
          "name": "stdout",
          "text": [
            "[1, 4, 3]\n",
            "[1, 2, 3]\n",
            "140229087168944\n",
            "140229087166544\n"
          ]
        }
      ]
    },
    {
      "cell_type": "code",
      "source": [
        "a = 3\n",
        "b = 5\n",
        "a,b = b,a\n",
        "print(a)\n",
        "print(b)\n"
      ],
      "metadata": {
        "colab": {
          "base_uri": "https://localhost:8080/"
        },
        "id": "UI18XLnLUX4W",
        "outputId": "bdce3b68-056c-4ec0-eeb3-60c741a5fcfd"
      },
      "execution_count": null,
      "outputs": [
        {
          "output_type": "stream",
          "name": "stdout",
          "text": [
            "5\n",
            "3\n"
          ]
        }
      ]
    },
    {
      "cell_type": "code",
      "source": [
        "t1 = (1,2,'a','b')\n",
        "# del t1[0] 삭제 못한다고 에러뜸raceback (most recent call last)\n",
        "# <ipython-input-1-e60ebcde2836> in <module>()\n",
        "      # 1 t1 = (1,2,'a','b')\n",
        "# ----> 2 del t1[0]\n",
        "# \n",
        "# TypeError: 'tuple' object doesn't support item deletion"
      ],
      "metadata": {
        "id": "grxvolN_WcNO"
      },
      "execution_count": null,
      "outputs": []
    },
    {
      "cell_type": "code",
      "source": [
        "pocket = ['paper', 'cellphon']\n",
        "card = False\n",
        "a = True\n",
        "if 'money' in pocket:\n",
        "    pass\n",
        "elif card:\n",
        "    print(\"택시를 타고가라\")\n",
        "else:\n",
        "    print(\"걸어가라\")"
      ],
      "metadata": {
        "colab": {
          "base_uri": "https://localhost:8080/"
        },
        "id": "NgYigu7Y2gdE",
        "outputId": "5d1a9190-2196-45db-dec9-0f119a38690e"
      },
      "execution_count": null,
      "outputs": [
        {
          "output_type": "stream",
          "name": "stdout",
          "text": [
            "걸어가라\n"
          ]
        }
      ]
    },
    {
      "cell_type": "code",
      "source": [
        "score = 70\n",
        "if score >= 60:\n",
        "    message = \"success\"\n",
        "else:\n",
        "    message = \"failure\"\n",
        "message = \"success\" if score >= 60 else \"failure\"\n",
        "print(message)"
      ],
      "metadata": {
        "colab": {
          "base_uri": "https://localhost:8080/"
        },
        "id": "JVjBfCduAhX9",
        "outputId": "3b7da087-2c95-4830-b200-cb18b886709b"
      },
      "execution_count": null,
      "outputs": [
        {
          "output_type": "stream",
          "name": "stdout",
          "text": [
            "success\n"
          ]
        }
      ]
    },
    {
      "cell_type": "code",
      "source": [
        "treeHit = 0\n",
        "while treeHit < 10:\n",
        "    treeHit = treeHit +1\n",
        "    print(\"쿵,\", \"나무를 %d번 찍었습니다.\"% treeHit)\n",
        "    if treeHit == 10:\n",
        "        print(\"나무 넘어갑니다\")"
      ],
      "metadata": {
        "colab": {
          "base_uri": "https://localhost:8080/"
        },
        "id": "OfymlbI3CmHk",
        "outputId": "9161daf8-67c9-4287-86e5-04240605cf6d"
      },
      "execution_count": null,
      "outputs": [
        {
          "output_type": "stream",
          "name": "stdout",
          "text": [
            "쿵, 나무를 1번 찍었습니다.\n",
            "쿵, 나무를 2번 찍었습니다.\n",
            "쿵, 나무를 3번 찍었습니다.\n",
            "쿵, 나무를 4번 찍었습니다.\n",
            "쿵, 나무를 5번 찍었습니다.\n",
            "쿵, 나무를 6번 찍었습니다.\n",
            "쿵, 나무를 7번 찍었습니다.\n",
            "쿵, 나무를 8번 찍었습니다.\n",
            "쿵, 나무를 9번 찍었습니다.\n",
            "쿵, 나무를 10번 찍었습니다.\n",
            "나무 넘어갑니다\n"
          ]
        }
      ]
    },
    {
      "cell_type": "code",
      "source": [
        "coffee = 10\n",
        "money = 300\n",
        "while money:\n",
        "    print(\"돈을 받았으니 커피를 줍니다.\")\n",
        "    coffee = coffee -1\n",
        "    print(\"남은 커피의 양은 %d개입니다.\"%coffee)\n",
        "    if not coffee:\n",
        "        print(\"커피가 다 떨어졌습니다. 판매를 중지합니다.\")\n",
        "        break"
      ],
      "metadata": {
        "colab": {
          "base_uri": "https://localhost:8080/"
        },
        "id": "3Jf0zUIPH0nD",
        "outputId": "862a94d7-bf16-47c4-adb4-3a82cdf733cb"
      },
      "execution_count": null,
      "outputs": [
        {
          "output_type": "stream",
          "name": "stdout",
          "text": [
            "돈을 받았으니 커피를 줍니다.\n",
            "남은 커피의 양은 9개입니다.\n",
            "돈을 받았으니 커피를 줍니다.\n",
            "남은 커피의 양은 8개입니다.\n",
            "돈을 받았으니 커피를 줍니다.\n",
            "남은 커피의 양은 7개입니다.\n",
            "돈을 받았으니 커피를 줍니다.\n",
            "남은 커피의 양은 6개입니다.\n",
            "돈을 받았으니 커피를 줍니다.\n",
            "남은 커피의 양은 5개입니다.\n",
            "돈을 받았으니 커피를 줍니다.\n",
            "남은 커피의 양은 4개입니다.\n",
            "돈을 받았으니 커피를 줍니다.\n",
            "남은 커피의 양은 3개입니다.\n",
            "돈을 받았으니 커피를 줍니다.\n",
            "남은 커피의 양은 2개입니다.\n",
            "돈을 받았으니 커피를 줍니다.\n",
            "남은 커피의 양은 1개입니다.\n",
            "돈을 받았으니 커피를 줍니다.\n",
            "남은 커피의 양은 0개입니다.\n",
            "커피가 다 떨어졌습니다. 판매를 중지합니다.\n"
          ]
        }
      ]
    },
    {
      "cell_type": "code",
      "source": [
        "a = 0\n",
        "while a < 10:\n",
        "    a = a+1\n",
        "    if a % 2 == 0:\n",
        "        continue\n",
        "    print(a)"
      ],
      "metadata": {
        "colab": {
          "base_uri": "https://localhost:8080/"
        },
        "id": "DzM_hJPbQNcg",
        "outputId": "b5b74ae7-e6fe-407f-bfd2-f8afcfe295c0"
      },
      "execution_count": null,
      "outputs": [
        {
          "output_type": "stream",
          "name": "stdout",
          "text": [
            "1\n",
            "3\n",
            "5\n",
            "7\n",
            "9\n"
          ]
        }
      ]
    },
    {
      "cell_type": "code",
      "source": [
        "sum = 0\n",
        "for i in range(1,11):\n",
        "    sum = sum + i\n",
        "\n",
        "    print(sum)"
      ],
      "metadata": {
        "colab": {
          "base_uri": "https://localhost:8080/"
        },
        "id": "2WfX8d5LQpro",
        "outputId": "22b22afa-bf75-4c67-92a3-e509dc51a054"
      },
      "execution_count": null,
      "outputs": [
        {
          "output_type": "stream",
          "name": "stdout",
          "text": [
            "1\n",
            "3\n",
            "6\n",
            "10\n",
            "15\n",
            "21\n",
            "28\n",
            "36\n",
            "45\n",
            "55\n"
          ]
        }
      ]
    },
    {
      "cell_type": "code",
      "source": [
        "a = 10\n",
        "for i in range(2,10):\n",
        "    for j in range(1,10):\n",
        "        print(i*j, end=\"\")\n",
        "        print('')"
      ],
      "metadata": {
        "colab": {
          "base_uri": "https://localhost:8080/"
        },
        "id": "ShkdTXlAWjrS",
        "outputId": "e3cbce34-c337-4919-d31e-f22a32307eb7"
      },
      "execution_count": null,
      "outputs": [
        {
          "output_type": "stream",
          "name": "stdout",
          "text": [
            "2\n",
            "4\n",
            "6\n",
            "8\n",
            "10\n",
            "12\n",
            "14\n",
            "16\n",
            "18\n",
            "3\n",
            "6\n",
            "9\n",
            "12\n",
            "15\n",
            "18\n",
            "21\n",
            "24\n",
            "27\n",
            "4\n",
            "8\n",
            "12\n",
            "16\n",
            "20\n",
            "24\n",
            "28\n",
            "32\n",
            "36\n",
            "5\n",
            "10\n",
            "15\n",
            "20\n",
            "25\n",
            "30\n",
            "35\n",
            "40\n",
            "45\n",
            "6\n",
            "12\n",
            "18\n",
            "24\n",
            "30\n",
            "36\n",
            "42\n",
            "48\n",
            "54\n",
            "7\n",
            "14\n",
            "21\n",
            "28\n",
            "35\n",
            "42\n",
            "49\n",
            "56\n",
            "63\n",
            "8\n",
            "16\n",
            "24\n",
            "32\n",
            "40\n",
            "48\n",
            "56\n",
            "64\n",
            "72\n",
            "9\n",
            "18\n",
            "27\n",
            "36\n",
            "45\n",
            "54\n",
            "63\n",
            "72\n",
            "81\n"
          ]
        }
      ]
    },
    {
      "cell_type": "code",
      "source": [
        "num = 1\n",
        "result = [num *3, for num in a if num % 2 == 0]\n",
        "\n",
        "result = []\n",
        "for num in a:\n",
        "  if num%2 == 0:\n",
        "    result.append(num*3)"
      ],
      "metadata": {
        "colab": {
          "base_uri": "https://localhost:8080/",
          "height": 245
        },
        "id": "fHqj6Su_X9nR",
        "outputId": "9944cecc-289c-4407-f32f-3d208716a4a6"
      },
      "execution_count": null,
      "outputs": [
        {
          "output_type": "error",
          "ename": "TypeError",
          "evalue": "ignored",
          "traceback": [
            "\u001b[0;31m---------------------------------------------------------------------------\u001b[0m",
            "\u001b[0;31mTypeError\u001b[0m                                 Traceback (most recent call last)",
            "\u001b[0;32m<ipython-input-23-680d66a12bb2>\u001b[0m in \u001b[0;36m<module>\u001b[0;34m()\u001b[0m\n\u001b[1;32m      1\u001b[0m \u001b[0mnum\u001b[0m \u001b[0;34m=\u001b[0m \u001b[0;36m1\u001b[0m\u001b[0;34m\u001b[0m\u001b[0;34m\u001b[0m\u001b[0m\n\u001b[0;32m----> 2\u001b[0;31m \u001b[0mresult\u001b[0m \u001b[0;34m=\u001b[0m \u001b[0;34m[\u001b[0m\u001b[0mnum\u001b[0m \u001b[0;34m*\u001b[0m\u001b[0;36m3\u001b[0m \u001b[0;32mfor\u001b[0m \u001b[0mnum\u001b[0m \u001b[0;32min\u001b[0m \u001b[0ma\u001b[0m \u001b[0;32mif\u001b[0m \u001b[0mnum\u001b[0m \u001b[0;34m%\u001b[0m \u001b[0;36m2\u001b[0m \u001b[0;34m==\u001b[0m \u001b[0;36m0\u001b[0m\u001b[0;34m]\u001b[0m\u001b[0;34m\u001b[0m\u001b[0;34m\u001b[0m\u001b[0m\n\u001b[0m\u001b[1;32m      3\u001b[0m \u001b[0;34m\u001b[0m\u001b[0m\n\u001b[1;32m      4\u001b[0m \u001b[0mresult\u001b[0m \u001b[0;34m=\u001b[0m \u001b[0;34m[\u001b[0m\u001b[0;34m]\u001b[0m\u001b[0;34m\u001b[0m\u001b[0;34m\u001b[0m\u001b[0m\n\u001b[1;32m      5\u001b[0m \u001b[0;32mfor\u001b[0m \u001b[0mnum\u001b[0m \u001b[0;32min\u001b[0m \u001b[0ma\u001b[0m\u001b[0;34m:\u001b[0m\u001b[0;34m\u001b[0m\u001b[0;34m\u001b[0m\u001b[0m\n",
            "\u001b[0;31mTypeError\u001b[0m: 'int' object is not iterable"
          ]
        }
      ]
    },
    {
      "cell_type": "code",
      "source": [
        "# 함수\n",
        "def sum(a,b):\n",
        "    result = a + b\n",
        "    return result\n",
        "print(sum(2332,424242))"
      ],
      "metadata": {
        "colab": {
          "base_uri": "https://localhost:8080/"
        },
        "id": "D_o8YocaaeIi",
        "outputId": "6518a2f1-1ce4-4ba4-a180-92eb07fbb0ba"
      },
      "execution_count": null,
      "outputs": [
        {
          "output_type": "stream",
          "name": "stdout",
          "text": [
            "426574\n"
          ]
        }
      ]
    },
    {
      "cell_type": "code",
      "source": [
        "def say():\n",
        "    return 'Hi'\n",
        "\n",
        "print(say())"
      ],
      "metadata": {
        "colab": {
          "base_uri": "https://localhost:8080/"
        },
        "id": "zAJ5sqLIdWAI",
        "outputId": "d3d97f4e-135c-4a57-973a-94e4c5478586"
      },
      "execution_count": null,
      "outputs": [
        {
          "output_type": "stream",
          "name": "stdout",
          "text": [
            "Hi\n"
          ]
        }
      ]
    },
    {
      "cell_type": "code",
      "source": [
        "def sum(a,b):\n",
        "  print(\"%d, %d의 합은 %d입니다.\"%(a,b, a+b))\n",
        "  return 0\n",
        "print(sum(1,2))"
      ],
      "metadata": {
        "colab": {
          "base_uri": "https://localhost:8080/"
        },
        "id": "QP_FjqR7eCIp",
        "outputId": "9b1de159-db04-4de1-ec39-28df8dfab593"
      },
      "execution_count": null,
      "outputs": [
        {
          "output_type": "stream",
          "name": "stdout",
          "text": [
            "1, 2의 합은 3입니다.\n",
            "0\n"
          ]
        }
      ]
    },
    {
      "cell_type": "code",
      "source": [
        "def sum_many(*args):\n",
        "  sum = 0\n",
        "  for i in args:\n",
        "    sum = sum + i\n",
        "  return sum\n",
        "print(sum_many(1,2,3))"
      ],
      "metadata": {
        "colab": {
          "base_uri": "https://localhost:8080/"
        },
        "id": "Ae5Fb_-zfXkR",
        "outputId": "1681bfec-ab29-40ee-f21a-18797d7a7f95"
      },
      "execution_count": null,
      "outputs": [
        {
          "output_type": "stream",
          "name": "stdout",
          "text": [
            "6\n"
          ]
        }
      ]
    },
    {
      "cell_type": "code",
      "source": [
        "b = 2\n",
        "def print_kwargs(**kwargs):\n",
        "  for k in kwargs.keys():\n",
        "      if(k == \"name\"):\n",
        "          print(\"당신의 이름은:\"+ kwargs[k])\n",
        "print(print_kwargs(name=\"int 조수\"))"
      ],
      "metadata": {
        "colab": {
          "base_uri": "https://localhost:8080/"
        },
        "id": "feXXIqEPhiAK",
        "outputId": "07129974-c55a-4fdb-b4b9-7ecceb3ed6c8"
      },
      "execution_count": null,
      "outputs": [
        {
          "output_type": "stream",
          "name": "stdout",
          "text": [
            "당신의 이름은:int 조수\n",
            "None\n"
          ]
        }
      ]
    },
    {
      "cell_type": "code",
      "source": [
        "def sum_and_mul(a,b):\n",
        "    return a+b, a*b\n",
        "\n",
        "print(sum_and_mul(1,2))"
      ],
      "metadata": {
        "colab": {
          "base_uri": "https://localhost:8080/"
        },
        "id": "YQAlj_MQmO_4",
        "outputId": "a486db25-7714-40d9-af23-4ed71d8ca735"
      },
      "execution_count": null,
      "outputs": [
        {
          "output_type": "stream",
          "name": "stdout",
          "text": [
            "(3, 2)\n"
          ]
        }
      ]
    },
    {
      "cell_type": "code",
      "source": [
        "def say_myself(name, old, man=True):\n",
        "    print(\"나의 이름은 %s 입니다.\"% name)\n",
        "    print(\"나이는 %d살입니다.\"%old)\n",
        "    if man:\n",
        "      print(\"남자입니다.\")\n",
        "    else:\n",
        "      print(\"여자입니다.\")\n",
        "say_myself(\"최재훈\", 26, True)"
      ],
      "metadata": {
        "colab": {
          "base_uri": "https://localhost:8080/"
        },
        "id": "gkz0YdjhnHXZ",
        "outputId": "970d30dc-3e95-4f5a-dee4-2ca20c5dea8a"
      },
      "execution_count": null,
      "outputs": [
        {
          "output_type": "stream",
          "name": "stdout",
          "text": [
            "나의 이름은 최재훈 입니다.\n",
            "나이는 26살입니다.\n",
            "남자입니다.\n"
          ]
        }
      ]
    },
    {
      "cell_type": "markdown",
      "source": [
        "# July 21"
      ],
      "metadata": {
        "id": "vqwqWH_hW4Zt"
      }
    },
    {
      "cell_type": "code",
      "source": [
        "a = 1\n",
        "def vartest(a):\n",
        "    a = a + 1\n",
        "    return a\n",
        "\n",
        "vartest(1)\n",
        "print(a)\n"
      ],
      "metadata": {
        "id": "Nfy-ZvunqUqZ",
        "colab": {
          "base_uri": "https://localhost:8080/"
        },
        "outputId": "10d022b0-f05f-449b-c8bb-47d0cd9327da"
      },
      "execution_count": 2,
      "outputs": [
        {
          "output_type": "stream",
          "name": "stdout",
          "text": [
            "1\n"
          ]
        }
      ]
    },
    {
      "cell_type": "code",
      "source": [
        "a = 1\n",
        "def vartest():\n",
        "    global a\n",
        "    a = a + 1\n",
        "    return a\n",
        "\n",
        "vartest()\n",
        "print(a)\n"
      ],
      "metadata": {
        "colab": {
          "base_uri": "https://localhost:8080/"
        },
        "id": "LtdCd0f8dHbG",
        "outputId": "f8773a06-3cff-48fe-95aa-5696faca03a9"
      },
      "execution_count": 5,
      "outputs": [
        {
          "output_type": "stream",
          "name": "stdout",
          "text": [
            "2\n"
          ]
        }
      ]
    },
    {
      "cell_type": "code",
      "source": [
        "# def add(a,b):\n",
        "    # return a+b\n",
        "add = lambda a,b: a+b\n",
        "\n",
        "print(add(1,4))"
      ],
      "metadata": {
        "colab": {
          "base_uri": "https://localhost:8080/"
        },
        "id": "_HPQdIOMdMtN",
        "outputId": "3404e4fb-3919-4c2d-b6e2-ce8949639697"
      },
      "execution_count": 9,
      "outputs": [
        {
          "output_type": "stream",
          "name": "stdout",
          "text": [
            "5\n"
          ]
        }
      ]
    },
    {
      "cell_type": "code",
      "source": [
        ""
      ],
      "metadata": {
        "id": "W6AQR9oqnFTf"
      },
      "execution_count": null,
      "outputs": []
    },
    {
      "cell_type": "code",
      "source": [
        ""
      ],
      "metadata": {
        "id": "XV4AoD3Tm6hI"
      },
      "execution_count": null,
      "outputs": []
    },
    {
      "cell_type": "markdown",
      "source": [
        ""
      ],
      "metadata": {
        "id": "-omzpzaTsZOd"
      }
    },
    {
      "cell_type": "code",
      "source": [
        ""
      ],
      "metadata": {
        "id": "8JxQg9O_d8QX"
      },
      "execution_count": null,
      "outputs": []
    },
    {
      "cell_type": "code",
      "source": [
        ""
      ],
      "metadata": {
        "id": "kQd31OoScYKG"
      },
      "execution_count": null,
      "outputs": []
    },
    {
      "cell_type": "code",
      "source": [
        ""
      ],
      "metadata": {
        "id": "dbYSZxIBqOUK"
      },
      "execution_count": null,
      "outputs": []
    },
    {
      "cell_type": "code",
      "source": [
        ""
      ],
      "metadata": {
        "id": "6q9OA93oqCxZ"
      },
      "execution_count": null,
      "outputs": []
    },
    {
      "cell_type": "code",
      "source": [
        ""
      ],
      "metadata": {
        "id": "dNbfUJAipiBZ"
      },
      "execution_count": null,
      "outputs": []
    },
    {
      "cell_type": "code",
      "source": [
        ""
      ],
      "metadata": {
        "id": "mNgly6W5lrWx"
      },
      "execution_count": null,
      "outputs": []
    },
    {
      "cell_type": "code",
      "source": [
        ""
      ],
      "metadata": {
        "id": "JTPZFdPbkQJh"
      },
      "execution_count": null,
      "outputs": []
    },
    {
      "cell_type": "code",
      "source": [
        ""
      ],
      "metadata": {
        "id": "bUJSZuh0j7WB"
      },
      "execution_count": null,
      "outputs": []
    },
    {
      "cell_type": "code",
      "source": [
        ""
      ],
      "metadata": {
        "id": "6W7VSN4OjbRK"
      },
      "execution_count": null,
      "outputs": []
    },
    {
      "cell_type": "code",
      "source": [
        ""
      ],
      "metadata": {
        "id": "ItHmga8og21y"
      },
      "execution_count": null,
      "outputs": []
    },
    {
      "cell_type": "code",
      "source": [
        ""
      ],
      "metadata": {
        "id": "7B9W-9uzfUkx"
      },
      "execution_count": null,
      "outputs": []
    },
    {
      "cell_type": "code",
      "source": [
        ""
      ],
      "metadata": {
        "id": "DBVeGKh1fS4x"
      },
      "execution_count": null,
      "outputs": []
    },
    {
      "cell_type": "code",
      "source": [
        ""
      ],
      "metadata": {
        "id": "SkZMHP4tfOOC"
      },
      "execution_count": null,
      "outputs": []
    },
    {
      "cell_type": "code",
      "source": [
        ""
      ],
      "metadata": {
        "id": "ZulZaRWMfLOp"
      },
      "execution_count": null,
      "outputs": []
    },
    {
      "cell_type": "code",
      "source": [
        ""
      ],
      "metadata": {
        "id": "gqkMcSR3fGpx"
      },
      "execution_count": null,
      "outputs": []
    },
    {
      "cell_type": "code",
      "source": [
        ""
      ],
      "metadata": {
        "id": "Pm4LujMHdAS5"
      },
      "execution_count": null,
      "outputs": []
    },
    {
      "cell_type": "code",
      "source": [
        ""
      ],
      "metadata": {
        "id": "Vzpjty72c8s5"
      },
      "execution_count": null,
      "outputs": []
    },
    {
      "cell_type": "code",
      "source": [
        ""
      ],
      "metadata": {
        "id": "RbNU3EqhZlPJ"
      },
      "execution_count": null,
      "outputs": []
    },
    {
      "cell_type": "code",
      "source": [
        ""
      ],
      "metadata": {
        "id": "4hmXmRKZZcxZ"
      },
      "execution_count": null,
      "outputs": []
    },
    {
      "cell_type": "code",
      "source": [
        ""
      ],
      "metadata": {
        "id": "Ha5b1xPVZaXC"
      },
      "execution_count": null,
      "outputs": []
    },
    {
      "cell_type": "code",
      "source": [
        ""
      ],
      "metadata": {
        "id": "vEKHJfOFQnAR"
      },
      "execution_count": null,
      "outputs": []
    },
    {
      "cell_type": "code",
      "source": [
        ""
      ],
      "metadata": {
        "id": "MKUrUPs7QCNw"
      },
      "execution_count": null,
      "outputs": []
    },
    {
      "cell_type": "code",
      "source": [
        ""
      ],
      "metadata": {
        "id": "DfGhp6WCP7UB"
      },
      "execution_count": null,
      "outputs": []
    },
    {
      "cell_type": "code",
      "source": [
        ""
      ],
      "metadata": {
        "id": "oFnMmDVHHsdE"
      },
      "execution_count": null,
      "outputs": []
    },
    {
      "cell_type": "code",
      "source": [
        ""
      ],
      "metadata": {
        "id": "z6f5KYeuHfu0"
      },
      "execution_count": null,
      "outputs": []
    },
    {
      "cell_type": "code",
      "source": [
        ""
      ],
      "metadata": {
        "id": "xj5uZsxmAcX7"
      },
      "execution_count": null,
      "outputs": []
    },
    {
      "cell_type": "code",
      "source": [
        ""
      ],
      "metadata": {
        "id": "8qnvU-AGAQqb"
      },
      "execution_count": null,
      "outputs": []
    },
    {
      "cell_type": "code",
      "source": [
        ""
      ],
      "metadata": {
        "id": "vvTLlLrPAFgM"
      },
      "execution_count": null,
      "outputs": []
    },
    {
      "cell_type": "code",
      "source": [
        ""
      ],
      "metadata": {
        "id": "EPAPYkUoULEI"
      },
      "execution_count": null,
      "outputs": []
    },
    {
      "cell_type": "code",
      "source": [
        ""
      ],
      "metadata": {
        "id": "mnezyYuTMhuv"
      },
      "execution_count": null,
      "outputs": []
    },
    {
      "cell_type": "code",
      "source": [
        ""
      ],
      "metadata": {
        "id": "hnGBXszPMa-k"
      },
      "execution_count": null,
      "outputs": []
    },
    {
      "cell_type": "code",
      "source": [
        ""
      ],
      "metadata": {
        "id": "u2nbag-co18F"
      },
      "execution_count": null,
      "outputs": []
    },
    {
      "cell_type": "code",
      "source": [
        ""
      ],
      "metadata": {
        "id": "g55JmqpwoV0M"
      },
      "execution_count": null,
      "outputs": []
    },
    {
      "cell_type": "code",
      "source": [
        ""
      ],
      "metadata": {
        "id": "3RplbZpNn7W9"
      },
      "execution_count": null,
      "outputs": []
    },
    {
      "cell_type": "code",
      "source": [
        ""
      ],
      "metadata": {
        "id": "aBgVpiCQnGzk"
      },
      "execution_count": null,
      "outputs": []
    },
    {
      "cell_type": "code",
      "source": [
        ""
      ],
      "metadata": {
        "id": "uMuqvIvC9Jjz"
      },
      "execution_count": null,
      "outputs": []
    },
    {
      "cell_type": "code",
      "source": [
        ""
      ],
      "metadata": {
        "id": "UfkRFCQi9D7T"
      },
      "execution_count": null,
      "outputs": []
    },
    {
      "cell_type": "markdown",
      "source": [
        ""
      ],
      "metadata": {
        "id": "dNInmYqjF0nd"
      }
    },
    {
      "cell_type": "markdown",
      "source": [
        ""
      ],
      "metadata": {
        "id": "J5Ttofrt9o1_"
      }
    },
    {
      "cell_type": "markdown",
      "source": [
        ""
      ],
      "metadata": {
        "id": "j3qUP0HnW3Ca"
      }
    }
  ]
}