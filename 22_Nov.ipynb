{
  "nbformat": 4,
  "nbformat_minor": 0,
  "metadata": {
    "colab": {
      "provenance": [],
      "authorship_tag": "ABX9TyO2pi0Vprq3bS4wX9lQOH1w",
      "include_colab_link": true
    },
    "kernelspec": {
      "name": "python3",
      "display_name": "Python 3"
    },
    "language_info": {
      "name": "python"
    }
  },
  "cells": [
    {
      "cell_type": "markdown",
      "metadata": {
        "id": "view-in-github",
        "colab_type": "text"
      },
      "source": [
        "<a href=\"https://colab.research.google.com/github/Sweetmonee/colab/blob/main/22_Nov.ipynb\" target=\"_parent\"><img src=\"https://colab.research.google.com/assets/colab-badge.svg\" alt=\"Open In Colab\"/></a>"
      ]
    },
    {
      "cell_type": "code",
      "execution_count": null,
      "metadata": {
        "id": "B7TIUNcivtVY"
      },
      "outputs": [],
      "source": [
        "#머쓱이네 피자가게는 피자를 일곱 조각으로 잘라 줍니다. \n",
        "#피자를 나눠먹을 사람의 수 n이 주어질 때, 모든 사람이 피자를 한 조각 이상 먹기 위해 필요한 피자의 수를 return 하는 solution 함수를 완성해보세요.\n",
        "def solution(n):\n",
        "    answer = 0\n",
        "    if n%7 ==0:\n",
        "        answer = n//7\n",
        "    else:\n",
        "        answer = (n//7) + 1\n",
        "    return answer"
      ]
    },
    {
      "cell_type": "code",
      "source": [
        "# 문자열 my_string이 매개변수로 주어집니다. my_string을 거꾸로 뒤집은 문자열을 return하도록 solution 함수를 완성해주세요.\n",
        "def solution(my_string):\n",
        "    reversed_str = \"\".join(reversed(my_string))\n",
        "    return reversed_str"
      ],
      "metadata": {
        "id": "oPHiKIYQv0op"
      },
      "execution_count": null,
      "outputs": []
    },
    {
      "cell_type": "code",
      "source": [
        "#정수가 담긴 리스트 num_list가 주어질 때, num_list의 원소 중 짝수와 홀수의 개수를 담은 배열을 return 하도록 solution 함수를 완성해보세요.\n",
        "\n",
        "def solution(num_list):\n",
        "    answer = []\n",
        "    oddnumber_count = 0\n",
        "    evennumber_count = 0\n",
        "    for i in num_list:\n",
        "        if i%2 ==1:\n",
        "            oddnumber_count += 1\n",
        "        else:\n",
        "            evennumber_count += 1   \n",
        "    answer = [evennumber_count,oddnumber_count]\n",
        "    return answer"
      ],
      "metadata": {
        "id": "_5X4lmmwv0rB"
      },
      "execution_count": null,
      "outputs": []
    },
    {
      "cell_type": "code",
      "source": [
        "#머쓱이네 피자가게는 피자를 두 조각에서 열 조각까지 원하는 조각 수로 잘라줍니다. 피자 조각 수 slice와 피자를 먹는 사람의 수 n이 매개변수로 주어질 때, \n",
        "#n명의 사람이 최소 한 조각 이상 피자를 먹으려면 최소 몇 판의 피자를 시켜야 하는지를 return 하도록 solution 함수를 완성해보세요.\n",
        "def solution(slice, n):\n",
        "    pizza = 0\n",
        "    if n%slice == 0:\n",
        "        pizza = (n//slice)\n",
        "    else:\n",
        "        pizza = (n//slice) +1\n",
        "    return pizza\n",
        "\n",
        "\n",
        "#2조각 2명 1판 3조각 3명 2판 4조각 4명 2판 5조각 5명 3판"
      ],
      "metadata": {
        "id": "6ARN-dRiv0t6"
      },
      "execution_count": null,
      "outputs": []
    },
    {
      "cell_type": "code",
      "source": [
        "#x 좌표 (x, y)를 차례대로 담은 정수 배열 dot이 매개변수로 주어집니다. 좌표 dot이 사분면 중 어디에 속하는지 1, 2, 3, 4 중 하나를 return 하도록 solution 함수를 완성해주세요.\n",
        "def solution(dot):\n",
        "    answer = dot\n",
        "    if ((dot[0] * dot[1])> 0) and ((dot[0] + dot[1]) > 0):\n",
        "        answer = 1  \n",
        "    elif ((dot[0] * dot[1])> 0) and ((dot[0] + dot[1]) < 0):\n",
        "        answer = 3\n",
        "    elif (dot[0] * dot[1]) < 0  and  dot[0] < 0:\n",
        "        answer = 2\n",
        "    else:\n",
        "        answer = 4\n",
        "    return answer"
      ],
      "metadata": {
        "id": "1QvojwsYv0wX"
      },
      "execution_count": null,
      "outputs": []
    },
    {
      "cell_type": "code",
      "source": [
        "#배열 numbers의 각 요소에 2를 곱한 값을 리턴한 배열을 출력\n",
        "def solution(numbers):\n",
        "    \n",
        "    answer = [i *2 for i in numbers]\n",
        "    \n",
        "    return answer"
      ],
      "metadata": {
        "id": "6FiQK7oBv0zH"
      },
      "execution_count": null,
      "outputs": []
    },
    {
      "cell_type": "code",
      "source": [],
      "metadata": {
        "id": "rb68e3gUv01-"
      },
      "execution_count": null,
      "outputs": []
    },
    {
      "cell_type": "code",
      "source": [],
      "metadata": {
        "id": "q-On5Icwv04m"
      },
      "execution_count": null,
      "outputs": []
    },
    {
      "cell_type": "code",
      "source": [],
      "metadata": {
        "id": "yNEXs9nhv07P"
      },
      "execution_count": null,
      "outputs": []
    },
    {
      "cell_type": "code",
      "source": [],
      "metadata": {
        "id": "iLZX_yeQv093"
      },
      "execution_count": null,
      "outputs": []
    },
    {
      "cell_type": "code",
      "source": [],
      "metadata": {
        "id": "CdBtakO7v1AJ"
      },
      "execution_count": null,
      "outputs": []
    }
  ]
}