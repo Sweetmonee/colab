{
  "nbformat": 4,
  "nbformat_minor": 0,
  "metadata": {
    "colab": {
      "provenance": [],
      "authorship_tag": "ABX9TyN2+FFWyRsboEqkri7eRjZV",
      "include_colab_link": true
    },
    "kernelspec": {
      "name": "python3",
      "display_name": "Python 3"
    },
    "language_info": {
      "name": "python"
    }
  },
  "cells": [
    {
      "cell_type": "markdown",
      "metadata": {
        "id": "view-in-github",
        "colab_type": "text"
      },
      "source": [
        "<a href=\"https://colab.research.google.com/github/Sweetmonee/colab/blob/main/Dec_7.ipynb\" target=\"_parent\"><img src=\"https://colab.research.google.com/assets/colab-badge.svg\" alt=\"Open In Colab\"/></a>"
      ]
    },
    {
      "cell_type": "code",
      "execution_count": null,
      "metadata": {
        "id": "nvX6Pynz7Zds"
      },
      "outputs": [],
      "source": [
        "# 문자열 my_string과 정수 num1, num2가 매개변수로 주어질 때, \n",
        "# my_string에서 인덱스 num1과 인덱스 num2에 해당하는 문자를 바꾼 문자열을 return 하도록 solution 함수를 완성해보세요.\n",
        "def solution(my_string, num1, num2):\n",
        "    answer = []\n",
        "    mylist = list(my_string)\n",
        "    mylist1 = list(my_string)\n",
        "    for i in mylist: \n",
        "        answer.append(i)\n",
        "    answer[num1] = mylist[num2]\n",
        "    answer[num2] = mylist[num1]\n",
        "            \n",
        "    return ''.join(answer)"
      ]
    }
  ]
}